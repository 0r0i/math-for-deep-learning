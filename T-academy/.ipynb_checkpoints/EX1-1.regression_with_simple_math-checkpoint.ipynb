{
 "cells": [
  {
   "cell_type": "markdown",
   "metadata": {
    "colab_type": "text",
    "id": "8ttl3UezFJzJ"
   },
   "source": [
    "### 수학통계적 방법으로 선형회귀(linear regression) 풀기\n",
    "\n",
    "##### Linear Regression  (월수익과 카드사용액의 관계)\n",
    "#### X(월수익), Y(카드사용액) 관계를 일차함수로 표현(모델링)하기. \n",
    "* 일차함수의 기울기는  (X,Y의 공분산) / (X의 분산)으로 구할 수 있다.\n",
    "* 일자: 2018/01\n",
    "* 저자: 한대희 daehee@mycampus.io\n"
   ]
  },
  {
   "cell_type": "code",
   "execution_count": 0,
   "metadata": {
    "colab": {},
    "colab_type": "code",
    "id": "ypmyqPO7FJzK"
   },
   "outputs": [],
   "source": [
    "import math\n",
    "import matplotlib.pyplot as plt\n",
    "\n",
    "income = [100,200,300,400,500] # 월수익\n",
    "card = [30, 57, 76, 140, 197] # 카드사용금액"
   ]
  },
  {
   "cell_type": "code",
   "execution_count": 6,
   "metadata": {
    "colab": {
     "base_uri": "https://localhost:8080/",
     "height": 104
    },
    "colab_type": "code",
    "executionInfo": {
     "elapsed": 1093,
     "status": "ok",
     "timestamp": 1552555968175,
     "user": {
      "displayName": "한대희",
      "photoUrl": "",
      "userId": "17475105266749362233"
     },
     "user_tz": -540
    },
    "id": "oFURLSw3FJzN",
    "outputId": "fe6a9703-48ba-42ac-c201-653c8bc5ed56"
   },
   "outputs": [
    {
     "name": "stdout",
     "output_type": "stream",
     "text": [
      "100 30\n",
      "200 57\n",
      "300 76\n",
      "400 140\n",
      "500 197\n"
     ]
    }
   ],
   "source": [
    "for x, y in zip(income, card):\n",
    "  print(x, y)"
   ]
  },
  {
   "cell_type": "code",
   "execution_count": 7,
   "metadata": {
    "colab": {
     "base_uri": "https://localhost:8080/",
     "height": 361
    },
    "colab_type": "code",
    "executionInfo": {
     "elapsed": 919,
     "status": "ok",
     "timestamp": 1552555968176,
     "user": {
      "displayName": "한대희",
      "photoUrl": "",
      "userId": "17475105266749362233"
     },
     "user_tz": -540
    },
    "id": "HHuWhxNqFJzS",
    "outputId": "b72abd11-9769-47ac-c2dd-de47d3bcefe4"
   },
   "outputs": [
    {
     "data": {
      "image/png": "[encoded data removed]",
      "text/plain": [
       "<Figure size 576x396 with 1 Axes>"
      ]
     },
     "metadata": {
      "tags": []
     },
     "output_type": "display_data"
    }
   ],
   "source": [
    "fig, ax = plt.subplots()\n",
    "ax.plot(income, card)\n",
    "ax.set_xlabel('Income')\n",
    "ax.set_ylabel('Card')\n",
    "ax.scatter(income, card)\n",
    "plt.show()"
   ]
  },
  {
   "cell_type": "markdown",
   "metadata": {
    "colab_type": "text",
    "id": "LlWPb14AFJzV"
   },
   "source": [
    "### 평균 (mean) 구하기"
   ]
  },
  {
   "cell_type": "code",
   "execution_count": 8,
   "metadata": {
    "colab": {
     "base_uri": "https://localhost:8080/",
     "height": 35
    },
    "colab_type": "code",
    "executionInfo": {
     "elapsed": 994,
     "status": "ok",
     "timestamp": 1552555968615,
     "user": {
      "displayName": "한대희",
      "photoUrl": "",
      "userId": "17475105266749362233"
     },
     "user_tz": -540
    },
    "id": "dXNLhsmHFJzW",
    "outputId": "ae91278c-dcae-44b3-a22a-9e0eb31a62a5"
   },
   "outputs": [
    {
     "name": "stdout",
     "output_type": "stream",
     "text": [
      "MEAN 300.0 100.0\n"
     ]
    }
   ],
   "source": [
    "mean_income = float(sum(income) / len(income))\n",
    "mean_card = sum(card) / len(card)\n",
    "print('MEAN', mean_income, mean_card)\n"
   ]
  },
  {
   "cell_type": "markdown",
   "metadata": {
    "colab_type": "text",
    "id": "SZEsSSq_FJzZ"
   },
   "source": [
    "### 분산값 구하기"
   ]
  },
  {
   "cell_type": "code",
   "execution_count": 9,
   "metadata": {
    "colab": {
     "base_uri": "https://localhost:8080/",
     "height": 35
    },
    "colab_type": "code",
    "executionInfo": {
     "elapsed": 1218,
     "status": "ok",
     "timestamp": 1552555970089,
     "user": {
      "displayName": "한대희",
      "photoUrl": "",
      "userId": "17475105266749362233"
     },
     "user_tz": -540
    },
    "id": "0fQ9pmA4FJza",
    "outputId": "f691125d-cbd0-4e55-95a2-2da9afa3f8c9"
   },
   "outputs": [
    {
     "name": "stdout",
     "output_type": "stream",
     "text": [
      "VAR 20000.0\n"
     ]
    }
   ],
   "source": [
    "vars = [(x-mean_income)*(x - mean_income) for x in income]\n",
    "variance_income = sum(vars) / len(vars)\n",
    "print('VAR', variance_income)"
   ]
  },
  {
   "cell_type": "markdown",
   "metadata": {
    "colab_type": "text",
    "id": "ZeZ3-0PWFJzc"
   },
   "source": [
    "### 공분산(covariance)구하기"
   ]
  },
  {
   "cell_type": "code",
   "execution_count": 10,
   "metadata": {
    "colab": {
     "base_uri": "https://localhost:8080/",
     "height": 35
    },
    "colab_type": "code",
    "executionInfo": {
     "elapsed": 710,
     "status": "ok",
     "timestamp": 1552555970490,
     "user": {
      "displayName": "한대희",
      "photoUrl": "",
      "userId": "17475105266749362233"
     },
     "user_tz": -540
    },
    "id": "vNtkaiRlFJzd",
    "outputId": "faf13b99-8c38-42ff-c03d-3c2ac05b321a"
   },
   "outputs": [
    {
     "name": "stdout",
     "output_type": "stream",
     "text": [
      "COV 8340.0\n"
     ]
    }
   ],
   "source": [
    "covars = [ (x-mean_income) * (y - mean_card) for x, y in zip(income, card)]\n",
    "covariance = sum(covars) /  len(covars)\n",
    "print('COV', covariance)"
   ]
  },
  {
   "cell_type": "markdown",
   "metadata": {
    "colab_type": "text",
    "id": "ebWAVqwZFJzg"
   },
   "source": [
    "### 통계적 방법으로 기울기(W), y절편(B)구하기"
   ]
  },
  {
   "cell_type": "code",
   "execution_count": 11,
   "metadata": {
    "colab": {
     "base_uri": "https://localhost:8080/",
     "height": 35
    },
    "colab_type": "code",
    "executionInfo": {
     "elapsed": 980,
     "status": "ok",
     "timestamp": 1552555971822,
     "user": {
      "displayName": "한대희",
      "photoUrl": "",
      "userId": "17475105266749362233"
     },
     "user_tz": -540
    },
    "id": "aR3jshzZFJzi",
    "outputId": "84667e15-5068-4f27-957f-31d531222ce5"
   },
   "outputs": [
    {
     "name": "stdout",
     "output_type": "stream",
     "text": [
      "W 0.417\n"
     ]
    }
   ],
   "source": [
    "# W = (X,Y의 covariance) / (X의 분산)\n",
    "W = float(covariance / variance_income)\n",
    "print('W', W)\n"
   ]
  },
  {
   "cell_type": "code",
   "execution_count": 12,
   "metadata": {
    "colab": {
     "base_uri": "https://localhost:8080/",
     "height": 35
    },
    "colab_type": "code",
    "executionInfo": {
     "elapsed": 1063,
     "status": "ok",
     "timestamp": 1552555972384,
     "user": {
      "displayName": "한대희",
      "photoUrl": "",
      "userId": "17475105266749362233"
     },
     "user_tz": -540
    },
    "id": "ItUezlzSFJzm",
    "outputId": "a7115c92-a5c0-446d-851b-d033072f03ef"
   },
   "outputs": [
    {
     "name": "stdout",
     "output_type": "stream",
     "text": [
      "B -25.099999999999994\n"
     ]
    }
   ],
   "source": [
    "# y = B + W * X\n",
    "# B = Y - W * X\n",
    "B = mean_card - W * mean_income\n",
    "print('B', B)"
   ]
  },
  {
   "cell_type": "markdown",
   "metadata": {
    "colab_type": "text",
    "id": "xOE3FK6dFJzp"
   },
   "source": [
    "### 통계적 방법으로 도출한 모델로 카드사용량 예측하기"
   ]
  },
  {
   "cell_type": "code",
   "execution_count": 13,
   "metadata": {
    "colab": {
     "base_uri": "https://localhost:8080/",
     "height": 52
    },
    "colab_type": "code",
    "executionInfo": {
     "elapsed": 930,
     "status": "ok",
     "timestamp": 1552555973194,
     "user": {
      "displayName": "한대희",
      "photoUrl": "",
      "userId": "17475105266749362233"
     },
     "user_tz": -540
    },
    "id": "pHSdYURXFJzp",
    "outputId": "e9608da4-98b3-4ddf-c414-0587fd8f9736"
   },
   "outputs": [
    {
     "name": "stdout",
     "output_type": "stream",
     "text": [
      "원데이터 출력값 [30, 57, 76, 140, 197]\n",
      "모델의 출력값 [16.6, 58.3, 100.0, 141.7, 183.4]\n"
     ]
    }
   ],
   "source": [
    "card_from_model = [B + W * x for x in income] \n",
    "print('원데이터 출력값', card)\n",
    "print('모델의 출력값', card_from_model)"
   ]
  },
  {
   "cell_type": "code",
   "execution_count": 14,
   "metadata": {
    "colab": {
     "base_uri": "https://localhost:8080/",
     "height": 104
    },
    "colab_type": "code",
    "executionInfo": {
     "elapsed": 2339,
     "status": "ok",
     "timestamp": 1552555975053,
     "user": {
      "displayName": "한대희",
      "photoUrl": "",
      "userId": "17475105266749362233"
     },
     "user_tz": -540
    },
    "id": "YBTTtwLFFJzs",
    "outputId": "5324dff4-ba58-43c6-922a-b18de4e6f1b0"
   },
   "outputs": [
    {
     "name": "stdout",
     "output_type": "stream",
     "text": [
      "30 16.6\n",
      "57 58.3\n",
      "76 100.0\n",
      "140 141.7\n",
      "197 183.4\n"
     ]
    }
   ],
   "source": [
    "for y1, y2 in zip(card, card_from_model):\n",
    "    print(y1, y2)"
   ]
  },
  {
   "cell_type": "code",
   "execution_count": 15,
   "metadata": {
    "colab": {
     "base_uri": "https://localhost:8080/",
     "height": 361
    },
    "colab_type": "code",
    "executionInfo": {
     "elapsed": 2271,
     "status": "ok",
     "timestamp": 1552555975814,
     "user": {
      "displayName": "한대희",
      "photoUrl": "",
      "userId": "17475105266749362233"
     },
     "user_tz": -540
    },
    "id": "rN_nEzH6FJzz",
    "outputId": "5d0c5b3b-599e-46d3-891d-1de3ff9b57ec"
   },
   "outputs": [
    {
     "data": {
      "image/png": "[encoded data removed]",
      "text/plain": [
       "<Figure size 576x396 with 1 Axes>"
      ]
     },
     "metadata": {
      "tags": []
     },
     "output_type": "display_data"
    }
   ],
   "source": [
    "fig, ax = plt.subplots()\n",
    "ax.plot(income, card, label='Real')\n",
    "ax.plot(income, card_from_model, label='Model')\n",
    "ax.scatter(income, card, c='blue')\n",
    "ax.scatter(income, card_from_model, c='red')\n",
    "ax.set_xlabel('Income')\n",
    "ax.set_ylabel('Card')\n",
    "plt.legend()\n",
    "plt.show()"
   ]
  },
  {
   "cell_type": "code",
   "execution_count": 0,
   "metadata": {
    "colab": {},
    "colab_type": "code",
    "id": "GJ-tgPzEFJz1"
   },
   "outputs": [],
   "source": [
    "from sklearn.linear_model import LinearRegression\n",
    "from sklearn.metrics import mean_squared_error, r2_score\n",
    "import numpy as np\n",
    "\n",
    "def rmse(arr1, arr2):\n",
    "    return np.sqrt(np.mean((arr1-arr2)**2))\n",
    "\n",
    "def linear_reg(X, Y, name=''):  \n",
    "  X = X.reshape((-1, 1))\n",
    "  model = LinearRegression()\n",
    "  model.fit(X, Y)\n",
    "  # model.coef_ -- 기울기\n",
    "  # model.intercept_ -- Y절편(bias)\n",
    "  print('Model Parameters:', model.coef_, model.intercept_)\n",
    "  Y2 = model.predict(X)\n",
    "  rmse_v = rmse(Y, Y2)\n",
    "  print(\"Mean squared error: %.2f\"\n",
    "      % mean_squared_error(Y, Y2))\n",
    "  print('Variance score: %.2f' % r2_score(Y, Y2))\n",
    "  print(\"RMSE of %s: %.2f\" % (name, rmse_v))"
   ]
  },
  {
   "cell_type": "code",
   "execution_count": 17,
   "metadata": {
    "colab": {
     "base_uri": "https://localhost:8080/",
     "height": 86
    },
    "colab_type": "code",
    "executionInfo": {
     "elapsed": 1503,
     "status": "ok",
     "timestamp": 1552555976336,
     "user": {
      "displayName": "한대희",
      "photoUrl": "",
      "userId": "17475105266749362233"
     },
     "user_tz": -540
    },
    "id": "7tAKRsMeFJz4",
    "outputId": "9761ec15-0f4e-490d-878b-3a74b668d3d4"
   },
   "outputs": [
    {
     "name": "stdout",
     "output_type": "stream",
     "text": [
      "Model Parameters: [0.417] -25.099999999999966\n",
      "Mean squared error: 189.02\n",
      "Variance score: 0.95\n",
      "RMSE of 0: 13.75\n"
     ]
    }
   ],
   "source": [
    "linear_reg(np.array(income), np.array(card), '0')\n",
    "\n"
   ]
  },
  {
   "cell_type": "code",
   "execution_count": 20,
   "metadata": {
    "colab": {
     "base_uri": "https://localhost:8080/",
     "height": 365
    },
    "colab_type": "code",
    "executionInfo": {
     "elapsed": 1173,
     "status": "ok",
     "timestamp": 1552556770373,
     "user": {
      "displayName": "한대희",
      "photoUrl": "",
      "userId": "17475105266749362233"
     },
     "user_tz": -540
    },
    "id": "qmCAL3q2i-Ez",
    "outputId": "fb57ab88-7efa-4643-c0b7-296c6c4240a0"
   },
   "outputs": [
    {
     "data": {
      "text/plain": [
       "<matplotlib.axes._subplots.AxesSubplot at 0x7fa01a5eaeb8>"
      ]
     },
     "execution_count": 20,
     "metadata": {
      "tags": []
     },
     "output_type": "execute_result"
    },
    {
     "data": {
      "image/png": "[encoded data removed]",
      "text/plain": [
       "<Figure size 576x396 with 1 Axes>"
      ]
     },
     "metadata": {
      "tags": []
     },
     "output_type": "display_data"
    }
   ],
   "source": [
    "import seaborn as sns\n",
    "sns.regplot(np.array(income), np.array(card))"
   ]
  },
  {
   "cell_type": "code",
   "execution_count": 0,
   "metadata": {
    "colab": {},
    "colab_type": "code",
    "id": "29nM88Bxl9Lr"
   },
   "outputs": [],
   "source": []
  }
 ],
 "metadata": {
  "accelerator": "GPU",
  "colab": {
   "collapsed_sections": [],
   "name": "regression1_math_scikit.ipynb",
   "provenance": [],
   "version": "0.3.2"
  },
  "kernelspec": {
   "display_name": "Python 3",
   "language": "python",
   "name": "python3"
  },
  "language_info": {
   "codemirror_mode": {
    "name": "ipython",
    "version": 3
   },
   "file_extension": ".py",
   "mimetype": "text/x-python",
   "name": "python",
   "nbconvert_exporter": "python",
   "pygments_lexer": "ipython3",
   "version": "3.6.4"
  },
  "toc": {
   "base_numbering": 1,
   "nav_menu": {},
   "number_sections": true,
   "sideBar": true,
   "skip_h1_title": false,
   "title_cell": "Table of Contents",
   "title_sidebar": "Contents",
   "toc_cell": false,
   "toc_position": {},
   "toc_section_display": true,
   "toc_window_display": false
  }
 },
 "nbformat": 4,
 "nbformat_minor": 1
}
