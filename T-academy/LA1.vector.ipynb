{
 "cells": [
  {
   "cell_type": "code",
   "execution_count": 0,
   "metadata": {
    "colab": {},
    "colab_type": "code",
    "id": "OdEb1qPRuN29"
   },
   "outputs": [],
   "source": [
    "import matplotlib.pyplot as plt\n",
    "import numpy as np"
   ]
  },
  {
   "cell_type": "code",
   "execution_count": 0,
   "metadata": {
    "colab": {},
    "colab_type": "code",
    "id": "Bs8B6AMKzosU"
   },
   "outputs": [],
   "source": [
    "class DRAW1(object):\n",
    "  def __init__(self, x1, x2, y1, y2):\n",
    "    self.fig, self.ax = plt.subplots()\n",
    "    plt.xlim(x1, x2)\n",
    "    plt.ylim(y1, y2)\n",
    "    \n",
    "  def vector(self, v, s=[0,0], c=None):\n",
    "    self.ax.arrow(s[0], s[1], v[0], v[1], head_width=0.1, head_length=0.1, animated=True, color=c)\n",
    "   \n",
    "  def show(self):\n",
    "    plt.show()"
   ]
  },
  {
   "cell_type": "markdown",
   "metadata": {
    "colab_type": "text",
    "id": "z2zPR2wAuB2Q"
   },
   "source": [
    "\n",
    "\n",
    "# 행 벡터, 열 벡터\n"
   ]
  },
  {
   "cell_type": "code",
   "execution_count": 0,
   "metadata": {
    "colab": {
     "base_uri": "https://localhost:8080/",
     "height": 34
    },
    "colab_type": "code",
    "executionInfo": {
     "elapsed": 1153,
     "status": "ok",
     "timestamp": 1550144982944,
     "user": {
      "displayName": "김택수",
      "photoUrl": "",
      "userId": "11711867812763941894"
     },
     "user_tz": -540
    },
    "id": "1-g09XgmuT1N",
    "outputId": "f1f6706a-16de-46de-c1a6-da6e37c174a6"
   },
   "outputs": [
    {
     "name": "stdout",
     "output_type": "stream",
     "text": [
      "[0 1 2 3 4 5 6]\n"
     ]
    }
   ],
   "source": [
    "a = np.array([0,1,2,3,4,5,6])\n",
    "print(a)"
   ]
  },
  {
   "cell_type": "code",
   "execution_count": 0,
   "metadata": {
    "colab": {
     "base_uri": "https://localhost:8080/",
     "height": 136
    },
    "colab_type": "code",
    "executionInfo": {
     "elapsed": 1125,
     "status": "ok",
     "timestamp": 1550144982945,
     "user": {
      "displayName": "김택수",
      "photoUrl": "",
      "userId": "11711867812763941894"
     },
     "user_tz": -540
    },
    "id": "IxTMQCLIuiaG",
    "outputId": "4cd4b36b-76d4-4b68-9c4f-f55f4d901420"
   },
   "outputs": [
    {
     "name": "stdout",
     "output_type": "stream",
     "text": [
      "0\n",
      "1\n",
      "2\n",
      "3\n",
      "4\n",
      "5\n",
      "6\n"
     ]
    }
   ],
   "source": [
    "for v in a:\n",
    "  print(v)"
   ]
  },
  {
   "cell_type": "code",
   "execution_count": 0,
   "metadata": {
    "colab": {},
    "colab_type": "code",
    "id": "z6SL-cHrumdG"
   },
   "outputs": [],
   "source": [
    "num = a.size\n",
    "R_VECTOR = a.reshape((1,num))\n",
    "C_VECTOR = a.reshape((num,1))\n"
   ]
  },
  {
   "cell_type": "code",
   "execution_count": 0,
   "metadata": {
    "colab": {
     "base_uri": "https://localhost:8080/",
     "height": 187
    },
    "colab_type": "code",
    "executionInfo": {
     "elapsed": 1098,
     "status": "ok",
     "timestamp": 1550144982949,
     "user": {
      "displayName": "김택수",
      "photoUrl": "",
      "userId": "11711867812763941894"
     },
     "user_tz": -540
    },
    "id": "c_32_YldusNz",
    "outputId": "fd0437ce-5024-4beb-e29c-8a5935dd24cf"
   },
   "outputs": [
    {
     "name": "stdout",
     "output_type": "stream",
     "text": [
      "행벡터:\n",
      " [[0 1 2 3 4 5 6]]\n",
      "열벡터:\n",
      " [[0]\n",
      " [1]\n",
      " [2]\n",
      " [3]\n",
      " [4]\n",
      " [5]\n",
      " [6]]\n"
     ]
    }
   ],
   "source": [
    "print(\"행벡터:\\n\", R_VECTOR)\n",
    "print(\"열벡터:\\n\", C_VECTOR)"
   ]
  },
  {
   "cell_type": "markdown",
   "metadata": {
    "colab_type": "text",
    "id": "z_uCIlf7vMLo"
   },
   "source": [
    "## 벡터 덧셈, 뺄셈\n"
   ]
  },
  {
   "cell_type": "code",
   "execution_count": 0,
   "metadata": {
    "colab": {},
    "colab_type": "code",
    "id": "y7n_MMLNgQws"
   },
   "outputs": [],
   "source": [
    "A = np.array([1,2,3])\n",
    "B = np.array([4,5,6])"
   ]
  },
  {
   "cell_type": "code",
   "execution_count": 0,
   "metadata": {
    "colab": {
     "base_uri": "https://localhost:8080/",
     "height": 34
    },
    "colab_type": "code",
    "executionInfo": {
     "elapsed": 1079,
     "status": "ok",
     "timestamp": 1550144982952,
     "user": {
      "displayName": "김택수",
      "photoUrl": "",
      "userId": "11711867812763941894"
     },
     "user_tz": -540
    },
    "id": "YrGNaq-LgaNB",
    "outputId": "3175e603-2646-4b99-f18e-1fa0193f9d05"
   },
   "outputs": [
    {
     "name": "stdout",
     "output_type": "stream",
     "text": [
      "[5 7 9]\n"
     ]
    }
   ],
   "source": [
    "C = A + B\n",
    "print(C)\n"
   ]
  },
  {
   "cell_type": "code",
   "execution_count": 0,
   "metadata": {
    "colab": {
     "base_uri": "https://localhost:8080/",
     "height": 34
    },
    "colab_type": "code",
    "executionInfo": {
     "elapsed": 1060,
     "status": "ok",
     "timestamp": 1550144982953,
     "user": {
      "displayName": "김택수",
      "photoUrl": "",
      "userId": "11711867812763941894"
     },
     "user_tz": -540
    },
    "id": "z-zsQq0hvgaP",
    "outputId": "adab16f2-2bbb-44f8-cfea-06422adbfa71"
   },
   "outputs": [
    {
     "name": "stdout",
     "output_type": "stream",
     "text": [
      "[-3 -3 -3]\n"
     ]
    }
   ],
   "source": [
    "D = A - B\n",
    "print(D)"
   ]
  },
  {
   "cell_type": "markdown",
   "metadata": {
    "colab_type": "text",
    "id": "vZkuiUILvomn"
   },
   "source": [
    "# 벡터의 배수"
   ]
  },
  {
   "cell_type": "code",
   "execution_count": 0,
   "metadata": {
    "colab": {
     "base_uri": "https://localhost:8080/",
     "height": 34
    },
    "colab_type": "code",
    "executionInfo": {
     "elapsed": 1046,
     "status": "ok",
     "timestamp": 1550144982955,
     "user": {
      "displayName": "김택수",
      "photoUrl": "",
      "userId": "11711867812763941894"
     },
     "user_tz": -540
    },
    "id": "7XirrvL1vnw7",
    "outputId": "4bc89a81-7083-41dc-acb7-908f34a2494a"
   },
   "outputs": [
    {
     "name": "stdout",
     "output_type": "stream",
     "text": [
      "[3 6 9]\n"
     ]
    }
   ],
   "source": [
    "A3 = A * 3\n",
    "print(A3)"
   ]
  },
  {
   "cell_type": "markdown",
   "metadata": {
    "colab_type": "text",
    "id": "7wZGUOdr0AhB"
   },
   "source": [
    "### 벡터를 유향선분으로 표현할 수 있다."
   ]
  },
  {
   "cell_type": "code",
   "execution_count": 0,
   "metadata": {
    "colab": {
     "base_uri": "https://localhost:8080/",
     "height": 34
    },
    "colab_type": "code",
    "executionInfo": {
     "elapsed": 1036,
     "status": "ok",
     "timestamp": 1550144982957,
     "user": {
      "displayName": "김택수",
      "photoUrl": "",
      "userId": "11711867812763941894"
     },
     "user_tz": -540
    },
    "id": "LeElmv1lzEtJ",
    "outputId": "6d5b625a-e3c0-4a3d-a92a-e22ee68cdd18"
   },
   "outputs": [
    {
     "name": "stdout",
     "output_type": "stream",
     "text": [
      "[4 3]\n"
     ]
    }
   ],
   "source": [
    "a = np.array([1,2])\n",
    "b = np.array([3,1])\n",
    "c = a+b\n",
    "print(c)"
   ]
  },
  {
   "cell_type": "code",
   "execution_count": 0,
   "metadata": {
    "colab": {
     "base_uri": "https://localhost:8080/",
     "height": 351
    },
    "colab_type": "code",
    "executionInfo": {
     "elapsed": 1233,
     "status": "ok",
     "timestamp": 1550144983178,
     "user": {
      "displayName": "김택수",
      "photoUrl": "",
      "userId": "11711867812763941894"
     },
     "user_tz": -540
    },
    "id": "hd_2GN9wzgkG",
    "outputId": "fbbacc79-5ee6-4452-fd38-ddbee5bda8ae"
   },
   "outputs": [
    {
     "data": {
      "image/png": "[encoded data removed]",
      "text/plain": [
       "<Figure size 576x396 with 1 Axes>"
      ]
     },
     "metadata": {
      "tags": []
     },
     "output_type": "display_data"
    }
   ],
   "source": [
    "draw = DRAW1(-1, 5, -1, 5)\n",
    "draw.vector(a) #원점을 시작점으로 하여 그림\n",
    "draw.vector(b) #원점을 시작점으로 하여 그림\n",
    "draw.vector(a, b, c='r') # b를 시작점으로 하여 그림\n",
    "draw.vector(b, a, c='b') # a를 시작점으로 하여 그림"
   ]
  },
  {
   "cell_type": "code",
   "execution_count": 0,
   "metadata": {
    "colab": {
     "base_uri": "https://localhost:8080/",
     "height": 351
    },
    "colab_type": "code",
    "executionInfo": {
     "elapsed": 1712,
     "status": "ok",
     "timestamp": 1550144983665,
     "user": {
      "displayName": "김택수",
      "photoUrl": "",
      "userId": "11711867812763941894"
     },
     "user_tz": -540
    },
    "id": "W1B_tHNG29AV",
    "outputId": "e8ac7b59-4cd8-460f-8fac-fa81890c9e8f"
   },
   "outputs": [
    {
     "data": {
      "image/png": "[encoded data removed]",
      "text/plain": [
       "<Figure size 576x396 with 1 Axes>"
      ]
     },
     "metadata": {
      "tags": []
     },
     "output_type": "display_data"
    }
   ],
   "source": [
    "draw = DRAW1(-1, 5, -1, 5)\n",
    "draw.vector(a) #원점을 시작점으로 하여 그림\n",
    "draw.vector(b) #원점을 시작점으로 하여 그림\n",
    "draw.vector(a, b, c='r') # b를 시작점으로 하여 그림\n",
    "draw.vector(b, a, c='b') # a를 시작점으로 하여 그림\n",
    "draw.vector(a+b, c='g')"
   ]
  },
  {
   "cell_type": "code",
   "execution_count": 0,
   "metadata": {
    "colab": {
     "base_uri": "https://localhost:8080/",
     "height": 34
    },
    "colab_type": "code",
    "executionInfo": {
     "elapsed": 1705,
     "status": "ok",
     "timestamp": 1550144983668,
     "user": {
      "displayName": "김택수",
      "photoUrl": "",
      "userId": "11711867812763941894"
     },
     "user_tz": -540
    },
    "id": "e9vNdcjR5oJQ",
    "outputId": "de288f20-e532-4633-c1f6-8529f67b23a0"
   },
   "outputs": [
    {
     "name": "stdout",
     "output_type": "stream",
     "text": [
      "[-2  1]\n"
     ]
    }
   ],
   "source": [
    "print(a-b)"
   ]
  },
  {
   "cell_type": "code",
   "execution_count": 0,
   "metadata": {
    "colab": {
     "base_uri": "https://localhost:8080/",
     "height": 351
    },
    "colab_type": "code",
    "executionInfo": {
     "elapsed": 2225,
     "status": "ok",
     "timestamp": 1550144984202,
     "user": {
      "displayName": "김택수",
      "photoUrl": "",
      "userId": "11711867812763941894"
     },
     "user_tz": -540
    },
    "id": "NEoeIA2c36Y4",
    "outputId": "366fc0f9-50a0-459d-9321-b81c4a8f26a6"
   },
   "outputs": [
    {
     "data": {
      "image/png": "[encoded data removed]",
      "text/plain": [
       "<Figure size 576x396 with 1 Axes>"
      ]
     },
     "metadata": {
      "tags": []
     },
     "output_type": "display_data"
    }
   ],
   "source": [
    "draw = DRAW1(-4, 4, -1, 4)\n",
    "draw.vector(a) #원점을 시작점으로 하여 그림\n",
    "draw.vector(b) #원점을 시작점으로 하여 그림\n",
    "draw.vector(a-b, b, c='r') # b를 시작점으로 하여 그림\n",
    "draw.vector(-b, a, c='b') # a를 시작점으로 하여 그림\n",
    "draw.vector(a-b, c='g')"
   ]
  },
  {
   "cell_type": "markdown",
   "metadata": {
    "colab_type": "text",
    "id": "lEGLzK1X5yK7"
   },
   "source": [
    "## 내적\n"
   ]
  },
  {
   "cell_type": "code",
   "execution_count": 0,
   "metadata": {
    "colab": {
     "base_uri": "https://localhost:8080/",
     "height": 34
    },
    "colab_type": "code",
    "executionInfo": {
     "elapsed": 2217,
     "status": "ok",
     "timestamp": 1550144984203,
     "user": {
      "displayName": "김택수",
      "photoUrl": "",
      "userId": "11711867812763941894"
     },
     "user_tz": -540
    },
    "id": "z6zsFtPC5xoS",
    "outputId": "56bf14dc-6f93-494b-cfa2-74e8f7ddbd97"
   },
   "outputs": [
    {
     "name": "stdout",
     "output_type": "stream",
     "text": [
      "[ 4 10 18]\n"
     ]
    }
   ],
   "source": [
    "A = np.array([1,2,3])\n",
    "B = np.array([4,5,6])\n",
    "C = A*B\n",
    "print(C)\n"
   ]
  },
  {
   "cell_type": "code",
   "execution_count": 0,
   "metadata": {
    "colab": {
     "base_uri": "https://localhost:8080/",
     "height": 34
    },
    "colab_type": "code",
    "executionInfo": {
     "elapsed": 2212,
     "status": "ok",
     "timestamp": 1550144984205,
     "user": {
      "displayName": "김택수",
      "photoUrl": "",
      "userId": "11711867812763941894"
     },
     "user_tz": -540
    },
    "id": "YAaitvw86CFT",
    "outputId": "c8836ae2-3ba3-43db-b597-f68dcf91d505"
   },
   "outputs": [
    {
     "name": "stdout",
     "output_type": "stream",
     "text": [
      "내적: 32\n"
     ]
    }
   ],
   "source": [
    "ip = np.sum(C)\n",
    "print('내적:', ip)"
   ]
  },
  {
   "cell_type": "markdown",
   "metadata": {
    "colab_type": "text",
    "id": "_w1hF5zH8kYC"
   },
   "source": [
    "### 내적 공식"
   ]
  },
  {
   "cell_type": "code",
   "execution_count": 0,
   "metadata": {
    "colab": {},
    "colab_type": "code",
    "id": "LTpn4NPr8jMe"
   },
   "outputs": [],
   "source": [
    "a = np.array([1,2])\n",
    "b = np.array([3,1])"
   ]
  },
  {
   "cell_type": "code",
   "execution_count": 0,
   "metadata": {
    "colab": {
     "base_uri": "https://localhost:8080/",
     "height": 34
    },
    "colab_type": "code",
    "executionInfo": {
     "elapsed": 2221,
     "status": "ok",
     "timestamp": 1550144984225,
     "user": {
      "displayName": "김택수",
      "photoUrl": "",
      "userId": "11711867812763941894"
     },
     "user_tz": -540
    },
    "id": "TgcNFrZN8wkd",
    "outputId": "49847ca2-5085-4ba4-c004-bcad04217d18"
   },
   "outputs": [
    {
     "name": "stdout",
     "output_type": "stream",
     "text": [
      "내적: 5\n"
     ]
    }
   ],
   "source": [
    "ip = np.sum(a*b)\n",
    "print('내적:', ip)"
   ]
  },
  {
   "cell_type": "code",
   "execution_count": 0,
   "metadata": {
    "colab": {},
    "colab_type": "code",
    "id": "5z15hbH_9JDi"
   },
   "outputs": [],
   "source": [
    "from math import *\n",
    "def magnitude(A):\n",
    "  res = A ** 2\n",
    "  res = np.sum(res)\n",
    "  return sqrt(res)"
   ]
  },
  {
   "cell_type": "code",
   "execution_count": 0,
   "metadata": {
    "colab": {
     "base_uri": "https://localhost:8080/",
     "height": 34
    },
    "colab_type": "code",
    "executionInfo": {
     "elapsed": 2234,
     "status": "ok",
     "timestamp": 1550144984247,
     "user": {
      "displayName": "김택수",
      "photoUrl": "",
      "userId": "11711867812763941894"
     },
     "user_tz": -540
    },
    "id": "BCIad1xk9l2P",
    "outputId": "c384473d-7f67-4dc6-c662-5d359001ae95"
   },
   "outputs": [
    {
     "name": "stdout",
     "output_type": "stream",
     "text": [
      "2.23606797749979 3.1622776601683795\n"
     ]
    }
   ],
   "source": [
    "m_a = magnitude(a)\n",
    "m_b = magnitude(b)\n",
    "print(m_a, m_b)\n"
   ]
  },
  {
   "cell_type": "code",
   "execution_count": 0,
   "metadata": {
    "colab": {
     "base_uri": "https://localhost:8080/",
     "height": 34
    },
    "colab_type": "code",
    "executionInfo": {
     "elapsed": 2225,
     "status": "ok",
     "timestamp": 1550144984249,
     "user": {
      "displayName": "김택수",
      "photoUrl": "",
      "userId": "11711867812763941894"
     },
     "user_tz": -540
    },
    "id": "-GeBqkhJ94mm",
    "outputId": "63af9a7f-1bb6-4d7f-bc12-bf4b8e7d9398"
   },
   "outputs": [
    {
     "data": {
      "text/plain": [
       "0.7071067811865476"
      ]
     },
     "execution_count": 22,
     "metadata": {
      "tags": []
     },
     "output_type": "execute_result"
    }
   ],
   "source": [
    "th = pi / 4 # 45도\n",
    "cos(th)"
   ]
  },
  {
   "cell_type": "code",
   "execution_count": 0,
   "metadata": {
    "colab": {
     "base_uri": "https://localhost:8080/",
     "height": 34
    },
    "colab_type": "code",
    "executionInfo": {
     "elapsed": 2207,
     "status": "ok",
     "timestamp": 1550144984251,
     "user": {
      "displayName": "김택수",
      "photoUrl": "",
      "userId": "11711867812763941894"
     },
     "user_tz": -540
    },
    "id": "rMtSP8eX-E9d",
    "outputId": "4a8ef573-5c6d-488d-bd82-abcb1cd277e3"
   },
   "outputs": [
    {
     "name": "stdout",
     "output_type": "stream",
     "text": [
      "5.000000000000001\n"
     ]
    }
   ],
   "source": [
    "v = m_a * m_b * cos(th)\n",
    "print(v)"
   ]
  },
  {
   "cell_type": "code",
   "execution_count": 0,
   "metadata": {
    "colab": {},
    "colab_type": "code",
    "id": "3b09hNr7-WTz"
   },
   "outputs": [],
   "source": []
  },
  {
   "cell_type": "markdown",
   "metadata": {
    "colab_type": "text",
    "id": "jN_H2GHTQkrk"
   },
   "source": [
    "## 직교 ( orthogonal)\n",
    "![Orthogonality](https://upload.wikimedia.org/wikipedia/commons/8/84/Perpendicular-coloured.svg =200x200)"
   ]
  },
  {
   "cell_type": "code",
   "execution_count": 0,
   "metadata": {
    "colab": {
     "base_uri": "https://localhost:8080/",
     "height": 351
    },
    "colab_type": "code",
    "executionInfo": {
     "elapsed": 2626,
     "status": "ok",
     "timestamp": 1550144984682,
     "user": {
      "displayName": "김택수",
      "photoUrl": "",
      "userId": "11711867812763941894"
     },
     "user_tz": -540
    },
    "id": "zeWh0BoIRjfR",
    "outputId": "ee7fb272-84b6-47ca-82e7-1e6ad8bad117"
   },
   "outputs": [
    {
     "data": {
      "image/png": "[encoded data removed]",
      "text/plain": [
       "<Figure size 576x396 with 1 Axes>"
      ]
     },
     "metadata": {
      "tags": []
     },
     "output_type": "display_data"
    }
   ],
   "source": [
    "a=np.array([2,1])\n",
    "b=np.array([-1,2])\n",
    "draw = DRAW1(-2, 3, -2, 3)\n",
    "draw.vector(a) #원점을 시작점으로 하여 그림\n",
    "draw.vector(b) #원점을 시작점으로 하여 그림"
   ]
  },
  {
   "cell_type": "code",
   "execution_count": 0,
   "metadata": {
    "colab": {
     "base_uri": "https://localhost:8080/",
     "height": 51
    },
    "colab_type": "code",
    "executionInfo": {
     "elapsed": 2619,
     "status": "ok",
     "timestamp": 1550144984686,
     "user": {
      "displayName": "김택수",
      "photoUrl": "",
      "userId": "11711867812763941894"
     },
     "user_tz": -540
    },
    "id": "7zacudTGR8N9",
    "outputId": "c790b6f8-59c7-4a44-f771-17ae13a4a9d5"
   },
   "outputs": [
    {
     "name": "stdout",
     "output_type": "stream",
     "text": [
      "[-2  2]\n",
      "0\n"
     ]
    }
   ],
   "source": [
    "print(a*b)\n",
    "ip = np.sum(a*b)\n",
    "print(ip)"
   ]
  },
  {
   "cell_type": "markdown",
   "metadata": {
    "colab_type": "text",
    "id": "F9pmHF24SZSJ"
   },
   "source": [
    "## Norm"
   ]
  },
  {
   "cell_type": "code",
   "execution_count": 0,
   "metadata": {
    "colab": {
     "base_uri": "https://localhost:8080/",
     "height": 351
    },
    "colab_type": "code",
    "executionInfo": {
     "elapsed": 2603,
     "status": "ok",
     "timestamp": 1550144984689,
     "user": {
      "displayName": "김택수",
      "photoUrl": "",
      "userId": "11711867812763941894"
     },
     "user_tz": -540
    },
    "id": "U9bLAWfQShrv",
    "outputId": "2bd8d044-3381-4337-e5b5-dac720123577"
   },
   "outputs": [
    {
     "data": {
      "image/png": "[encoded data removed]",
      "text/plain": [
       "<Figure size 576x396 with 1 Axes>"
      ]
     },
     "metadata": {
      "tags": []
     },
     "output_type": "display_data"
    }
   ],
   "source": [
    "a=np.array([2,1])\n",
    "b=np.array([-1,2])\n",
    "c=a-b\n",
    "draw = DRAW1(-2, 3, -2, 3)\n",
    "draw.vector(a, c='b') #원점을 시작점으로 하여 그림\n",
    "draw.vector(b, c='g') #원점을 시작점으로 하여 그림\n",
    "draw.vector(c, b, c='r') #원점을 시작점으로 하여 그림"
   ]
  },
  {
   "cell_type": "code",
   "execution_count": 0,
   "metadata": {
    "colab": {
     "base_uri": "https://localhost:8080/",
     "height": 34
    },
    "colab_type": "code",
    "executionInfo": {
     "elapsed": 2924,
     "status": "ok",
     "timestamp": 1550144985019,
     "user": {
      "displayName": "김택수",
      "photoUrl": "",
      "userId": "11711867812763941894"
     },
     "user_tz": -540
    },
    "id": "1GQCs79MTAz7",
    "outputId": "76c8a813-66e3-4c90-c42e-1ebb6a42c613"
   },
   "outputs": [
    {
     "name": "stdout",
     "output_type": "stream",
     "text": [
      "[ 3 -1]\n"
     ]
    }
   ],
   "source": [
    "print(c)"
   ]
  },
  {
   "cell_type": "markdown",
   "metadata": {
    "colab_type": "text",
    "id": "UTYcXkHbTfac"
   },
   "source": [
    "### norm 1 :  sum of 절대값"
   ]
  },
  {
   "cell_type": "code",
   "execution_count": 0,
   "metadata": {
    "colab": {
     "base_uri": "https://localhost:8080/",
     "height": 34
    },
    "colab_type": "code",
    "executionInfo": {
     "elapsed": 2917,
     "status": "ok",
     "timestamp": 1550144985020,
     "user": {
      "displayName": "김택수",
      "photoUrl": "",
      "userId": "11711867812763941894"
     },
     "user_tz": -540
    },
    "id": "CJwcqp_YTHhv",
    "outputId": "46f07642-de09-4da7-c40f-d6b3f5debcf8"
   },
   "outputs": [
    {
     "data": {
      "text/plain": [
       "4.0"
      ]
     },
     "execution_count": 28,
     "metadata": {
      "tags": []
     },
     "output_type": "execute_result"
    }
   ],
   "source": [
    "np.linalg.norm(c, 1) #np.linalg.norm(vecotr, 1 or 2)"
   ]
  },
  {
   "cell_type": "markdown",
   "metadata": {
    "colab_type": "text",
    "id": "DwARmK0xTqWM"
   },
   "source": [
    "### norm 2: sqrt(sum of 제곱)"
   ]
  },
  {
   "cell_type": "code",
   "execution_count": 0,
   "metadata": {
    "colab": {
     "base_uri": "https://localhost:8080/",
     "height": 34
    },
    "colab_type": "code",
    "executionInfo": {
     "elapsed": 2908,
     "status": "ok",
     "timestamp": 1550144985021,
     "user": {
      "displayName": "김택수",
      "photoUrl": "",
      "userId": "11711867812763941894"
     },
     "user_tz": -540
    },
    "id": "9zVis5ezTOab",
    "outputId": "f2c85c5a-7fca-4642-dfef-bdb59a0e3038"
   },
   "outputs": [
    {
     "data": {
      "text/plain": [
       "3.1622776601683795"
      ]
     },
     "execution_count": 29,
     "metadata": {
      "tags": []
     },
     "output_type": "execute_result"
    }
   ],
   "source": [
    "np.linalg.norm(c, 2)"
   ]
  },
  {
   "cell_type": "code",
   "execution_count": 0,
   "metadata": {
    "colab": {
     "base_uri": "https://localhost:8080/",
     "height": 34
    },
    "colab_type": "code",
    "executionInfo": {
     "elapsed": 2921,
     "status": "ok",
     "timestamp": 1550144985042,
     "user": {
      "displayName": "김택수",
      "photoUrl": "",
      "userId": "11711867812763941894"
     },
     "user_tz": -540
    },
    "id": "bXsF1GHWTTdb",
    "outputId": "643a450a-83f3-47da-c66b-31eb46731e5b"
   },
   "outputs": [
    {
     "name": "stdout",
     "output_type": "stream",
     "text": [
      "3.1622776601683795\n"
     ]
    }
   ],
   "source": [
    "print(sqrt(3**2 + (-1)**2))"
   ]
  },
  {
   "cell_type": "code",
   "execution_count": 0,
   "metadata": {
    "colab": {
     "base_uri": "https://localhost:8080/",
     "height": 35
    },
    "colab_type": "code",
    "executionInfo": {
     "elapsed": 747,
     "status": "ok",
     "timestamp": 1550145865405,
     "user": {
      "displayName": "한대희",
      "photoUrl": "",
      "userId": "17475105266749362233"
     },
     "user_tz": -540
    },
    "id": "w6dHXIJM3bHs",
    "outputId": "3d562eb8-2a2b-493e-db46-d337a85183ab"
   },
   "outputs": [
    {
     "data": {
      "text/plain": [
       "3.1622776601683795"
      ]
     },
     "execution_count": 100,
     "metadata": {
      "tags": []
     },
     "output_type": "execute_result"
    }
   ],
   "source": [
    "sqrt(10)"
   ]
  },
  {
   "cell_type": "code",
   "execution_count": 0,
   "metadata": {
    "colab": {},
    "colab_type": "code",
    "id": "BvLjQB6l38Ml"
   },
   "outputs": [],
   "source": []
  }
 ],
 "metadata": {
  "colab": {
   "collapsed_sections": [],
   "name": "선형대수_1.ipynb",
   "provenance": [],
   "version": "0.3.2"
  },
  "kernelspec": {
   "display_name": "Python 3",
   "language": "python",
   "name": "python3"
  },
  "language_info": {
   "codemirror_mode": {
    "name": "ipython",
    "version": 3
   },
   "file_extension": ".py",
   "mimetype": "text/x-python",
   "name": "python",
   "nbconvert_exporter": "python",
   "pygments_lexer": "ipython3",
   "version": "3.6.4"
  },
  "toc": {
   "base_numbering": 1,
   "nav_menu": {},
   "number_sections": true,
   "sideBar": true,
   "skip_h1_title": false,
   "title_cell": "Table of Contents",
   "title_sidebar": "Contents",
   "toc_cell": false,
   "toc_position": {},
   "toc_section_display": true,
   "toc_window_display": false
  }
 },
 "nbformat": 4,
 "nbformat_minor": 1
}
