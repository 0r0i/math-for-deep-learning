{
 "cells": [
  {
   "cell_type": "code",
   "execution_count": 23,
   "metadata": {
    "colab": {},
    "colab_type": "code",
    "id": "OdEb1qPRuN29"
   },
   "outputs": [],
   "source": [
    "import matplotlib.pyplot as plt\n",
    "import numpy as np\n"
   ]
  },
  {
   "cell_type": "code",
   "execution_count": 24,
   "metadata": {
    "colab": {},
    "colab_type": "code",
    "id": "z6SL-cHrumdG"
   },
   "outputs": [],
   "source": [
    "A = np.array([1,2])\n",
    "C = A.reshape((2,1))\n",
    "R = A.reshape((1,2))"
   ]
  },
  {
   "cell_type": "code",
   "execution_count": 25,
   "metadata": {
    "colab": {
     "base_uri": "https://localhost:8080/",
     "height": 102
    },
    "colab_type": "code",
    "executionInfo": {
     "elapsed": 1210,
     "status": "ok",
     "timestamp": 1551155793093,
     "user": {
      "displayName": "한대희",
      "photoUrl": "",
      "userId": "17475105266749362233"
     },
     "user_tz": -540
    },
    "id": "c_32_YldusNz",
    "outputId": "d5cb7afc-34e4-4c5d-fa77-7477cb1a4bff"
   },
   "outputs": [
    {
     "name": "stdout",
     "output_type": "stream",
     "text": [
      "행벡터:\n",
      " [[1 2]]\n",
      "열벡터:\n",
      " [[1]\n",
      " [2]]\n"
     ]
    }
   ],
   "source": [
    "print(\"행벡터:\\n\", R)\n",
    "print(\"열벡터:\\n\", C)"
   ]
  },
  {
   "cell_type": "code",
   "execution_count": 26,
   "metadata": {
    "colab": {},
    "colab_type": "code",
    "id": "y7n_MMLNgQws"
   },
   "outputs": [],
   "source": [
    "A = np.array([[4,4], [2, -4]])"
   ]
  },
  {
   "cell_type": "code",
   "execution_count": 27,
   "metadata": {
    "colab": {},
    "colab_type": "code",
    "id": "YrGNaq-LgaNB"
   },
   "outputs": [],
   "source": [
    "B = np.array([5,1])\n"
   ]
  },
  {
   "cell_type": "code",
   "execution_count": 28,
   "metadata": {
    "colab": {
     "base_uri": "https://localhost:8080/",
     "height": 51
    },
    "colab_type": "code",
    "executionInfo": {
     "elapsed": 649,
     "status": "ok",
     "timestamp": 1551155828473,
     "user": {
      "displayName": "한대희",
      "photoUrl": "",
      "userId": "17475105266749362233"
     },
     "user_tz": -540
    },
    "id": "dt6CYje3gaci",
    "outputId": "1c528439-882f-4e55-adf3-caf240ea11e5"
   },
   "outputs": [
    {
     "name": "stdout",
     "output_type": "stream",
     "text": [
      "[[ 0.16666667  0.16666667]\n",
      " [ 0.08333333 -0.16666667]]\n"
     ]
    }
   ],
   "source": [
    "# A*X = B\n",
    "# X = A_inv * B\n",
    "A_inv = np.linalg.inv(A)\n",
    "print(np.linalg.inv(A))"
   ]
  },
  {
   "cell_type": "code",
   "execution_count": 29,
   "metadata": {
    "colab": {
     "base_uri": "https://localhost:8080/",
     "height": 34
    },
    "colab_type": "code",
    "executionInfo": {
     "elapsed": 666,
     "status": "ok",
     "timestamp": 1551155828780,
     "user": {
      "displayName": "한대희",
      "photoUrl": "",
      "userId": "17475105266749362233"
     },
     "user_tz": -540
    },
    "id": "L7WuK2Jng2GX",
    "outputId": "7b73e5b0-912e-488b-912c-28fa9008dea8"
   },
   "outputs": [
    {
     "name": "stdout",
     "output_type": "stream",
     "text": [
      "[1.   0.25]\n"
     ]
    }
   ],
   "source": [
    "X = np.matmul(A_inv, B)\n",
    "print(X)"
   ]
  },
  {
   "cell_type": "code",
   "execution_count": 30,
   "metadata": {
    "colab": {
     "base_uri": "https://localhost:8080/",
     "height": 85
    },
    "colab_type": "code",
    "executionInfo": {
     "elapsed": 994,
     "status": "ok",
     "timestamp": 1551155829541,
     "user": {
      "displayName": "한대희",
      "photoUrl": "",
      "userId": "17475105266749362233"
     },
     "user_tz": -540
    },
    "id": "od2vI3r3vscT",
    "outputId": "8ced5b4f-e77f-4cf6-9450-46b6f76ea56a"
   },
   "outputs": [
    {
     "name": "stdout",
     "output_type": "stream",
     "text": [
      "[[3 1]\n",
      " [0 2]]\n",
      "[[-1]\n",
      " [ 2]]\n"
     ]
    }
   ],
   "source": [
    "A = np.array([[3, 1], [0, 2]])\n",
    "print(A)\n",
    "B = np.array([-1, 2]).reshape(-1,1)\n",
    "print(B)"
   ]
  },
  {
   "cell_type": "code",
   "execution_count": 36,
   "metadata": {
    "colab": {},
    "colab_type": "code",
    "id": "-D_lXkih2qFi"
   },
   "outputs": [],
   "source": [
    "def draw_v(v):\n",
    "  fig, ax = plt.subplots()\n",
    "  plt.xlim(0, 10*max(v))\n",
    "  plt.ylim(0, 10*max(v))\n",
    "  print(v)\n",
    "  #ax.arrow(0, 0, v[0], v[1], head_width=0.05, head_length=0.1, animated=True, fc='k', ec='k')\n",
    "  ax.arrow(0, 0, 3*v[0], 3*v[1], head_width=0.05, head_length=0.1, animated=True)\n",
    "  ax.arrow(0, 0, v[0], v[1], head_width=0.05, head_length=0.1, animated=True)\n",
    "  plt.show()"
   ]
  },
  {
   "cell_type": "code",
   "execution_count": 37,
   "metadata": {
    "colab": {
     "base_uri": "https://localhost:8080/",
     "height": 368
    },
    "colab_type": "code",
    "executionInfo": {
     "elapsed": 916,
     "status": "ok",
     "timestamp": 1551155829872,
     "user": {
      "displayName": "한대희",
      "photoUrl": "",
      "userId": "17475105266749362233"
     },
     "user_tz": -540
    },
    "id": "MnDN2RiW2qhh",
    "outputId": "0ed83686-a5d0-4da4-cc6e-b967c53ffef7"
   },
   "outputs": [
    {
     "name": "stdout",
     "output_type": "stream",
     "text": [
      "[0.5 0.5]\n"
     ]
    },
    {
     "data": {
      "image/png": "[encoded data removed]",
      "text/plain": [
       "<Figure size 432x288 with 1 Axes>"
      ]
     },
     "metadata": {},
     "output_type": "display_data"
    }
   ],
   "source": [
    "draw_v(np.array([0.5, 0.5]))"
   ]
  },
  {
   "cell_type": "code",
   "execution_count": 44,
   "metadata": {
    "colab": {},
    "colab_type": "code",
    "id": "LDWHx0JF2Db6"
   },
   "outputs": [],
   "source": [
    "def draw_matrix(m, v):\n",
    "  if v.ndim == 1:\n",
    "    v = v.reshape(-1, 1)\n",
    "  t = np.matmul(m, v)\n",
    "  fig, ax = plt.subplots()\n",
    "  xaxis = m[:, 0] # X축 기저 벡터\n",
    "  yaxis = m[:, 1] # Y축 기저 벡터\n",
    "  print('X축 기저 벡터', xaxis)\n",
    "  print('Y축 기저 벡터', yaxis)\n",
    "  \n",
    "  xvals = [m[0,0], m[0, 1], v[0][0], t[0][0], 0] # grid에서 X값 범위\n",
    "  yvals = [m[1,0], m[1, 1], v[1][0], t[1][0], 0] # grid에서 Y값 범위\n",
    "  #print(xvals, yvals)\n",
    "    \n",
    "  plt.xlim(min(xvals)-0.5, max(xvals)+0.5)\n",
    "  plt.ylim(min(yvals)-0.5, max(yvals)+0.5)\n",
    "  ax.arrow(0, 0, 1, 0, color='black', head_width=0.05, head_length=0.1, animated=True)\n",
    "  ax.arrow(0, 0, 0, 1, color='black', head_width=0.05, head_length=0.1, animated=True)\n",
    "  ax.arrow(0, 0, xaxis[0], xaxis[1], color='blue', head_width=0.05, head_length=0.1, animated=True)\n",
    "  ax.arrow(0, 0, yaxis[0], yaxis[1], color='blue', head_width=0.05, head_length=0.1, animated=True)\n",
    "  ax.arrow(0, 0, v[0][0], v[1][0], color='black', head_width=0.05, head_length=0.1, animated=True)\n",
    "  ax.arrow(0, 0, t[0][0], t[1][0], color='green', head_width=0.05, head_length=0.1, animated=True)\n",
    "  plt.show()"
   ]
  },
  {
   "cell_type": "code",
   "execution_count": 48,
   "metadata": {
    "colab": {
     "base_uri": "https://localhost:8080/",
     "height": 136
    },
    "colab_type": "code",
    "executionInfo": {
     "elapsed": 859,
     "status": "ok",
     "timestamp": 1551155830183,
     "user": {
      "displayName": "한대희",
      "photoUrl": "",
      "userId": "17475105266749362233"
     },
     "user_tz": -540
    },
    "id": "AYtj3hvolYyu",
    "outputId": "78a1e2a7-8471-44f4-98da-84e5e33e3153"
   },
   "outputs": [
    {
     "name": "stdout",
     "output_type": "stream",
     "text": [
      "[[-1  2]\n",
      " [ 1  1]]\n",
      "[3 2]\n",
      "변환결과 [1 5]\n"
     ]
    }
   ],
   "source": [
    "A = np.array([[-1, 2], [1, 1]])\n",
    "print(A)\n",
    "B = np.array([3, 2])\n",
    "print(B)\n",
    "\n",
    "print('변환결과', np.matmul(A, B))\n"
   ]
  },
  {
   "cell_type": "code",
   "execution_count": 46,
   "metadata": {
    "colab": {
     "base_uri": "https://localhost:8080/",
     "height": 364
    },
    "colab_type": "code",
    "executionInfo": {
     "elapsed": 959,
     "status": "ok",
     "timestamp": 1551155830478,
     "user": {
      "displayName": "한대희",
      "photoUrl": "",
      "userId": "17475105266749362233"
     },
     "user_tz": -540
    },
    "id": "GCXwa3Y05-YA",
    "outputId": "14a63cb1-a943-4941-ed63-733fd4999f04"
   },
   "outputs": [
    {
     "name": "stdout",
     "output_type": "stream",
     "text": [
      "X축 기저 벡터 [-1  1]\n",
      "Y축 기저 벡터 [2 1]\n"
     ]
    },
    {
     "data": {
      "image/png": "[encoded data removed]",
      "text/plain": [
       "<Figure size 432x288 with 1 Axes>"
      ]
     },
     "metadata": {},
     "output_type": "display_data"
    }
   ],
   "source": [
    "draw_matrix(A, B)\n"
   ]
  },
  {
   "cell_type": "code",
   "execution_count": 16,
   "metadata": {
    "colab": {},
    "colab_type": "code",
    "id": "RYnrdbZQlsqq"
   },
   "outputs": [],
   "source": [
    "f = [(0,0),(1,0),(1,2),(2,2),(2,3),(1,3),(1,5),(3,5),(3,6),(0,6),(0,0)]"
   ]
  },
  {
   "cell_type": "code",
   "execution_count": 17,
   "metadata": {
    "colab": {
     "base_uri": "https://localhost:8080/",
     "height": 34
    },
    "colab_type": "code",
    "executionInfo": {
     "elapsed": 555,
     "status": "ok",
     "timestamp": 1551155830481,
     "user": {
      "displayName": "한대희",
      "photoUrl": "",
      "userId": "17475105266749362233"
     },
     "user_tz": -540
    },
    "id": "FFfTtK_OLwi_",
    "outputId": "335c3858-54dd-43f9-a149-5d769ce6b4c2"
   },
   "outputs": [
    {
     "name": "stdout",
     "output_type": "stream",
     "text": [
      "(11, 2)\n"
     ]
    }
   ],
   "source": [
    "import numpy as np\n",
    "F = np.array(f)\n",
    "print(F.shape)"
   ]
  },
  {
   "cell_type": "code",
   "execution_count": 18,
   "metadata": {
    "colab": {
     "base_uri": "https://localhost:8080/",
     "height": 34
    },
    "colab_type": "code",
    "executionInfo": {
     "elapsed": 613,
     "status": "ok",
     "timestamp": 1551155830760,
     "user": {
      "displayName": "한대희",
      "photoUrl": "",
      "userId": "17475105266749362233"
     },
     "user_tz": -540
    },
    "id": "xPYWShcQM7MM",
    "outputId": "ea02c1cd-4d04-4f0f-e405-da7516a0070e"
   },
   "outputs": [
    {
     "name": "stdout",
     "output_type": "stream",
     "text": [
      "(2, 11)\n"
     ]
    }
   ],
   "source": [
    "F = F.T # transpose\n",
    "print(F.shape)\n",
    "X = F[0]\n",
    "Y = F[1]"
   ]
  },
  {
   "cell_type": "code",
   "execution_count": 19,
   "metadata": {
    "colab": {},
    "colab_type": "code",
    "id": "qXp9guNLL7Vj"
   },
   "outputs": [],
   "source": [
    "def drawit(X,Y):\n",
    "  import matplotlib.pyplot as plt\n",
    "  plt.plot(X, Y)\n",
    "  plt.xlim(-7.5,7.5)\n",
    "  plt.ylim(-7.5,7.5)\n",
    "  plt.show()"
   ]
  },
  {
   "cell_type": "code",
   "execution_count": 20,
   "metadata": {
    "colab": {
     "base_uri": "https://localhost:8080/",
     "height": 347
    },
    "colab_type": "code",
    "executionInfo": {
     "elapsed": 779,
     "status": "ok",
     "timestamp": 1551155921245,
     "user": {
      "displayName": "한대희",
      "photoUrl": "",
      "userId": "17475105266749362233"
     },
     "user_tz": -540
    },
    "id": "GnO5Cw_SGB9x",
    "outputId": "c4afcb1c-80d0-44c1-c613-73da46a175f6"
   },
   "outputs": [
    {
     "data": {
      "image/png": "[encoded data removed]",
      "text/plain": [
       "<Figure size 432x288 with 1 Axes>"
      ]
     },
     "metadata": {},
     "output_type": "display_data"
    }
   ],
   "source": [
    "drawit(F[0], F[1])"
   ]
  },
  {
   "cell_type": "code",
   "execution_count": 21,
   "metadata": {
    "colab": {},
    "colab_type": "code",
    "id": "bibCK8sTMKlC"
   },
   "outputs": [],
   "source": [
    "from math import * \n",
    "th = pi/6 # 30도. 왜냐하면 pi == 180. \n",
    "K = [[cos(th), -sin(th)], \n",
    "     [sin(th), cos(th)]]\n",
    "F2 = np.dot(K, F)\n"
   ]
  },
  {
   "cell_type": "code",
   "execution_count": 22,
   "metadata": {
    "colab": {
     "base_uri": "https://localhost:8080/",
     "height": 347
    },
    "colab_type": "code",
    "executionInfo": {
     "elapsed": 852,
     "status": "ok",
     "timestamp": 1551155922472,
     "user": {
      "displayName": "한대희",
      "photoUrl": "",
      "userId": "17475105266749362233"
     },
     "user_tz": -540
    },
    "id": "Tlw5TEU0Nouq",
    "outputId": "5f0beab2-cf14-4926-d5f2-db1d5e25bf9e"
   },
   "outputs": [
    {
     "data": {
      "image/png": "[encoded data removed]",
      "text/plain": [
       "<Figure size 432x288 with 1 Axes>"
      ]
     },
     "metadata": {},
     "output_type": "display_data"
    }
   ],
   "source": [
    "drawit(F2[0], F2[1])"
   ]
  },
  {
   "cell_type": "code",
   "execution_count": 0,
   "metadata": {
    "colab": {},
    "colab_type": "code",
    "id": "acOgzb8gN5po"
   },
   "outputs": [],
   "source": []
  }
 ],
 "metadata": {
  "colab": {
   "collapsed_sections": [],
   "name": "선형대수_daehee.ipynb",
   "provenance": [],
   "version": "0.3.2"
  },
  "kernelspec": {
   "display_name": "Python 3",
   "language": "python",
   "name": "python3"
  },
  "language_info": {
   "codemirror_mode": {
    "name": "ipython",
    "version": 3
   },
   "file_extension": ".py",
   "mimetype": "text/x-python",
   "name": "python",
   "nbconvert_exporter": "python",
   "pygments_lexer": "ipython3",
   "version": "3.6.4"
  },
  "toc": {
   "base_numbering": 1,
   "nav_menu": {},
   "number_sections": true,
   "sideBar": true,
   "skip_h1_title": false,
   "title_cell": "Table of Contents",
   "title_sidebar": "Contents",
   "toc_cell": false,
   "toc_position": {},
   "toc_section_display": true,
   "toc_window_display": false
  }
 },
 "nbformat": 4,
 "nbformat_minor": 1
}
