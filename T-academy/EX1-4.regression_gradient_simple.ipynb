{
 "cells": [
  {
   "cell_type": "markdown",
   "metadata": {
    "colab_type": "text",
    "id": "lmSL-oBhhx83"
   },
   "source": [
    "### Gradient(미분, 편미분) 방법으로 선형회귀(linear regression) 풀기\n",
    "\n",
    "##### Linear Regression  (월수익과 카드사용액의 관계)\n",
    "#### X(월수익), Y(카드사용액) 관계를 일차함수로 표현(모델링)하기. \n",
    "일자: 2018/01\n",
    "저자: 한대희 daehee@mycampus.io\n"
   ]
  },
  {
   "cell_type": "code",
   "execution_count": 1,
   "metadata": {
    "colab": {
     "base_uri": "https://localhost:8080/",
     "height": 34
    },
    "colab_type": "code",
    "executionInfo": {
     "elapsed": 864,
     "status": "ok",
     "timestamp": 1551180861893,
     "user": {
      "displayName": "한대희",
      "photoUrl": "",
      "userId": "17475105266749362233"
     },
     "user_tz": -540
    },
    "id": "hGU93slDhx85",
    "outputId": "d80a7bfe-b6a6-4c93-f5bb-720a1283ced3"
   },
   "outputs": [
    {
     "name": "stdout",
     "output_type": "stream",
     "text": [
      "(array([1, 2, 3, 4, 5]), array([0, 0, 0, 1, 1]))\n"
     ]
    }
   ],
   "source": [
    "import math\n",
    "import matplotlib.pyplot as plt\n",
    "import numpy as np\n",
    "income = [100,200,300,400,500] # 월수익\n",
    "card = [30, 57, 76, 140, 197] # 카드사용금액\n",
    "income = np.array(income) / 100\n",
    "card = np.array(card) / 100\n",
    "print(income, card)"
   ]
  },
  {
   "cell_type": "markdown",
   "metadata": {
    "colab_type": "text",
    "id": "_SCQKSAIhx8-"
   },
   "source": [
    "###  \n",
    "<img src=\"abc_sq.png\">"
   ]
  },
  {
   "cell_type": "code",
   "execution_count": 0,
   "metadata": {
    "colab": {},
    "colab_type": "code",
    "id": "xuFYwdwnhx8_"
   },
   "outputs": [],
   "source": [
    "def get_eq(V, C):\n",
    "    # get equantion from Vars(변수명) and Coefficients(계수)\n",
    "    res_eq = ' '.join(['%s%.1f%s' % ('+' if coef > 0 else '', coef, var) \n",
    "                       for var, coef in zip(V, C) \n",
    "                       if coef != 0])\n",
    "    return res_eq\n",
    "            \n",
    "\n",
    "# (a+b+c)^2 = a^2 + b^2 + c^2 + 2ab + 2bc + 2ca\n",
    "def sq_of_triple(v=['a', 'b', 'c'], c=[1,1,1]):\n",
    "    sq_v = [v[0]+v[0], v[1]+v[1], v[2]+v[2], v[0]+v[1], v[1]+v[2], v[2]+v[0]]\n",
    "    sq_c = [c[0]*c[0], c[1]*c[1], c[2]*c[2], 2*c[0]*c[1], 2*c[1]*c[2], 2*c[2]*c[0]]\n",
    "    #res_eq = ' '.join(['%s%d%s' % ('+' if coef > 0 else '', coef, var) for var, coef in zip(sq_v, sq_c) if coef != 0])\n",
    "    res_eq = get_eq(sq_v, sq_c)\n",
    "    return sq_v, np.array(sq_c), res_eq"
   ]
  },
  {
   "cell_type": "code",
   "execution_count": 3,
   "metadata": {
    "colab": {
     "base_uri": "https://localhost:8080/",
     "height": 50
    },
    "colab_type": "code",
    "executionInfo": {
     "elapsed": 1117,
     "status": "ok",
     "timestamp": 1551180862160,
     "user": {
      "displayName": "한대희",
      "photoUrl": "",
      "userId": "17475105266749362233"
     },
     "user_tz": -540
    },
    "id": "0JXpvFQWhx9B",
    "outputId": "fe0efdb2-56ff-4603-b099-d47de7a75a49"
   },
   "outputs": [
    {
     "name": "stdout",
     "output_type": "stream",
     "text": [
      "+1.0aa +1.0bb +1.0cc +2.0ab +2.0bc +2.0ca\n",
      "+40000.0ww +1.0bb +2500.0 +400.0wb +100.0b +20000.0w\n"
     ]
    }
   ],
   "source": [
    "sq = sq_of_triple()\n",
    "print(sq[2])\n",
    "sq = sq_of_triple(['w', 'b', ''], [200, 1, 50])\n",
    "print(sq[2])"
   ]
  },
  {
   "cell_type": "markdown",
   "metadata": {
    "colab_type": "text",
    "id": "Bux_LOYUhx9E"
   },
   "source": [
    "### Y' = W*X + B 로  regression할 때 (X,Y')의 오차\n",
    "Y'-Y = Wx + B - Y"
   ]
  },
  {
   "cell_type": "code",
   "execution_count": 4,
   "metadata": {
    "colab": {
     "base_uri": "https://localhost:8080/",
     "height": 101
    },
    "colab_type": "code",
    "executionInfo": {
     "elapsed": 1106,
     "status": "ok",
     "timestamp": 1551180862161,
     "user": {
      "displayName": "한대희",
      "photoUrl": "",
      "userId": "17475105266749362233"
     },
     "user_tz": -540
    },
    "id": "eLqoIwFihx9E",
    "outputId": "52a6b460-2e09-427d-898c-41f4b6acca77"
   },
   "outputs": [
    {
     "name": "stdout",
     "output_type": "stream",
     "text": [
      "+1.0ww +1.0bb +2.0wb\n",
      "+4.0ww +1.0bb +4.0wb\n",
      "+9.0ww +1.0bb +6.0wb\n",
      "+16.0ww +1.0bb +1.0 +8.0wb -2.0b -8.0w\n",
      "+25.0ww +1.0bb +1.0 +10.0wb -2.0b -10.0w\n"
     ]
    }
   ],
   "source": [
    "# 데이터별 오차\n",
    "for x, y in zip(income, card):\n",
    "    # (y'-y) = w*x + b - y\n",
    "    sq = sq_of_triple(['w', 'b', ''], [x, 1, -y])\n",
    "    print(sq[2])"
   ]
  },
  {
   "cell_type": "markdown",
   "metadata": {
    "colab_type": "text",
    "id": "PIHyudNKhx9H"
   },
   "source": [
    "### MSE -  Mean Squared Error: '데이터별 오차의 제곱'의 평균\n",
    "<img src=\"mse.png\"  width=\"250\">"
   ]
  },
  {
   "cell_type": "code",
   "execution_count": 5,
   "metadata": {
    "colab": {
     "base_uri": "https://localhost:8080/",
     "height": 67
    },
    "colab_type": "code",
    "executionInfo": {
     "elapsed": 1098,
     "status": "ok",
     "timestamp": 1551180862162,
     "user": {
      "displayName": "한대희",
      "photoUrl": "",
      "userId": "17475105266749362233"
     },
     "user_tz": -540
    },
    "id": "Vikmnh-Lhx9I",
    "outputId": "e7d016c8-87df-4e22-94ea-d43dd089b30c"
   },
   "outputs": [
    {
     "name": "stdout",
     "output_type": "stream",
     "text": [
      "('MSE: \\xeb\\xb3\\x80\\xec\\x88\\x98', ['ww', 'bb', '', 'wb', 'b', 'w'])\n",
      "('MSE: \\xea\\xb3\\x84\\xec\\x88\\x98', array([11. ,  1. ,  0.4,  6. , -0.8, -3.6]))\n",
      "('MSE:', '+11.0ww +1.0bb +0.4 +6.0wb -0.8b -3.6w')\n"
     ]
    }
   ],
   "source": [
    "def get_MSE_eq_for_data(X, Y):\n",
    "    ''' X, Y 데이터를 Y'= W*X * B로 모델링할때의 MSE 계산식 '''\n",
    "    sum_coef =  np.zeros(6) # [0,0,0, ...] 길이 6 \n",
    "    for x, y in zip(X, Y):\n",
    "        # y' = w*x + b, (y'-y) = w*x + b - y\n",
    "        sq = sq_of_triple(['w', 'b', ''], [x, 1, -y])\n",
    "        var = sq[0]\n",
    "        sum_coef += sq[1]\n",
    "    sum_coef /= len(X) # 평균 구하기\n",
    "    res_eq = get_eq(var, sum_coef)\n",
    "    return var, sum_coef, res_eq\n",
    "#\n",
    "mse_eq = get_MSE_eq_for_data(income, card)  \n",
    "print('MSE: 변수', mse_eq[0])\n",
    "print('MSE: 계수', mse_eq[1])\n",
    "print('MSE:', mse_eq[2])"
   ]
  },
  {
   "cell_type": "code",
   "execution_count": 0,
   "metadata": {
    "colab": {},
    "colab_type": "code",
    "id": "TwbBSVWIhx9K"
   },
   "outputs": [],
   "source": [
    "def calc_loss_of_MSE(mseCoef, w, b):\n",
    "    ''' MSE식의 변수순서: +25ww +1bb +3 +10wb -3b -19w '''\n",
    "    loss = w*w*mseCoef[0] + b*b*mseCoef[1] + mseCoef[2] + w*b*mseCoef[3] + b*mseCoef[4] + w*mseCoef[5]\n",
    "    return loss"
   ]
  },
  {
   "cell_type": "code",
   "execution_count": 7,
   "metadata": {
    "colab": {
     "base_uri": "https://localhost:8080/",
     "height": 50
    },
    "colab_type": "code",
    "executionInfo": {
     "elapsed": 694,
     "status": "ok",
     "timestamp": 1551180879494,
     "user": {
      "displayName": "한대희",
      "photoUrl": "",
      "userId": "17475105266749362233"
     },
     "user_tz": -540
    },
    "id": "tNjY61cQhx9N",
    "outputId": "a1722dad-3a9f-41da-a746-03141bac1596"
   },
   "outputs": [
    {
     "name": "stdout",
     "output_type": "stream",
     "text": [
      "('dW:', '+22.0w +6.0b -3.6')\n",
      "('dB:', '+2.0b +6.0w -0.8')\n"
     ]
    }
   ],
   "source": [
    "def get_derivative_eq(V, C, dvar):\n",
    "    ''' dvar - 미분 대상 변수 이름: x, y, .. '''\n",
    "    def deriv(v, c, d):\n",
    "        degree = v.count(d)\n",
    "        dv = v.replace(d, '', 1)\n",
    "        dc = degree * c\n",
    "        return dv, dc\n",
    "    deriv_v_c = [deriv(v,c,dvar) for v,c in zip(V, C)]\n",
    "    deriv_v_c = [v_c for v_c in deriv_v_c if v_c[1] != 0]\n",
    "    var = [v_c[0] for v_c in deriv_v_c]\n",
    "    coef = [v_c[1] for v_c in deriv_v_c]\n",
    "    deriv_eq = get_eq(var, coef)\n",
    "    return var, coef, deriv_eq\n",
    "#\n",
    "dW_eq = get_derivative_eq(mse_eq[0], mse_eq[1], 'w')\n",
    "print('dW:', dW_eq[2])\n",
    "\n",
    "dB_eq = get_derivative_eq(mse_eq[0], mse_eq[1], 'b')\n",
    "print('dB:', dB_eq[2])\n",
    "            \n",
    "    "
   ]
  },
  {
   "cell_type": "code",
   "execution_count": 8,
   "metadata": {
    "colab": {
     "base_uri": "https://localhost:8080/",
     "height": 34
    },
    "colab_type": "code",
    "executionInfo": {
     "elapsed": 401,
     "status": "ok",
     "timestamp": 1551180883572,
     "user": {
      "displayName": "한대희",
      "photoUrl": "",
      "userId": "17475105266749362233"
     },
     "user_tz": -540
    },
    "id": "ljmeHt0uhx9P",
    "outputId": "45250e96-afcd-4f12-b60c-922da3a28f04"
   },
   "outputs": [
    {
     "name": "stdout",
     "output_type": "stream",
     "text": [
      "(-0.7999999999999998, 0.0)\n"
     ]
    }
   ],
   "source": [
    "def get_gradient(dWcoef, dBcoef, curW, curB):\n",
    "    grW = dWcoef[0]*curW + dWcoef[1]*curB + dWcoef[2] \n",
    "    grB = dBcoef[0]*curB + dBcoef[1]*curW + dBcoef[2] \n",
    "    return grW, grB\n",
    "#\n",
    "gw, gb = get_gradient(dW_eq[1], dB_eq[1], 0.1, 0.1)\n",
    "print(gw, gb)"
   ]
  },
  {
   "cell_type": "markdown",
   "metadata": {
    "colab_type": "text",
    "id": "EhQxv5fBhx9S"
   },
   "source": [
    "### gradient descent 수행 (반복적 과정, 루프)"
   ]
  },
  {
   "cell_type": "code",
   "execution_count": 23,
   "metadata": {
    "colab": {
     "base_uri": "https://localhost:8080/",
     "height": 1075
    },
    "colab_type": "code",
    "executionInfo": {
     "elapsed": 793,
     "status": "ok",
     "timestamp": 1551181490783,
     "user": {
      "displayName": "한대희",
      "photoUrl": "",
      "userId": "17475105266749362233"
     },
     "user_tz": -540
    },
    "id": "Rhr0SeGEhx9T",
    "outputId": "96df0f8b-90ae-4cea-8050-a5196b781cae",
    "scrolled": true
   },
   "outputs": [
    {
     "name": "stdout",
     "output_type": "stream",
     "text": [
      "('\\xec\\xb4\\x88\\xea\\xb8\\xb0\\xea\\xb0\\x92:', 0.01798531184024249, 0.0741316123315504)\n",
      "[001] LOSS 0.1226 W 0.134 B 0.084 dW 0.4391 dB 0.3384\n",
      "[011] LOSS 0.1044 W 0.163 B -0.006 dW -0.0470 dB 0.1698\n",
      "[021] LOSS 0.0915 W 0.185 B -0.084 dW -0.0397 dB 0.1432\n",
      "[031] LOSS 0.0824 W 0.203 B -0.149 dW -0.0334 dB 0.1207\n",
      "[041] LOSS 0.0759 W 0.218 B -0.204 dW -0.0282 dB 0.1018\n",
      "[051] LOSS 0.0713 W 0.231 B -0.250 dW -0.0238 dB 0.0858\n",
      "[061] LOSS 0.0681 W 0.242 B -0.290 dW -0.0201 dB 0.0724\n",
      "[071] LOSS 0.0657 W 0.251 B -0.323 dW -0.0169 dB 0.0610\n",
      "[081] LOSS 0.0641 W 0.259 B -0.350 dW -0.0143 dB 0.0515\n",
      "[091] LOSS 0.0629 W 0.265 B -0.374 dW -0.0120 dB 0.0434\n",
      "[101] LOSS 0.0621 W 0.271 B -0.394 dW -0.0101 dB 0.0366\n",
      "[111] LOSS 0.0615 W 0.275 B -0.410 dW -0.0085 dB 0.0309\n",
      "[121] LOSS 0.0610 W 0.279 B -0.424 dW -0.0072 dB 0.0260\n",
      "[131] LOSS 0.0607 W 0.282 B -0.436 dW -0.0061 dB 0.0219\n",
      "[141] LOSS 0.0605 W 0.285 B -0.446 dW -0.0051 dB 0.0185\n",
      "[151] LOSS 0.0604 W 0.287 B -0.455 dW -0.0043 dB 0.0156\n",
      "[161] LOSS 0.0603 W 0.289 B -0.462 dW -0.0036 dB 0.0132\n",
      "[171] LOSS 0.0602 W 0.291 B -0.468 dW -0.0031 dB 0.0111\n",
      "[181] LOSS 0.0601 W 0.292 B -0.473 dW -0.0026 dB 0.0094\n",
      "[191] LOSS 0.0601 W 0.294 B -0.477 dW -0.0022 dB 0.0079\n",
      "[201] LOSS 0.0601 W 0.295 B -0.481 dW -0.0018 dB 0.0067\n",
      "[211] LOSS 0.0600 W 0.295 B -0.484 dW -0.0016 dB 0.0056\n",
      "[221] LOSS 0.0600 W 0.296 B -0.486 dW -0.0013 dB 0.0047\n",
      "[231] LOSS 0.0600 W 0.297 B -0.488 dW -0.0011 dB 0.0040\n",
      "[241] LOSS 0.0600 W 0.297 B -0.490 dW -0.0009 dB 0.0034\n",
      "[251] LOSS 0.0600 W 0.298 B -0.492 dW -0.0008 dB 0.0028\n",
      "[261] LOSS 0.0600 W 0.298 B -0.493 dW -0.0007 dB 0.0024\n",
      "[271] LOSS 0.0600 W 0.298 B -0.494 dW -0.0006 dB 0.0020\n",
      "[281] LOSS 0.0600 W 0.299 B -0.495 dW -0.0005 dB 0.0017\n",
      "[291] LOSS 0.0600 W 0.299 B -0.496 dW -0.0004 dB 0.0014\n",
      "[301] LOSS 0.0600 W 0.299 B -0.496 dW -0.0003 dB 0.0012\n",
      "[311] LOSS 0.0600 W 0.299 B -0.497 dW -0.0003 dB 0.0010\n",
      "[321] LOSS 0.0600 W 0.299 B -0.497 dW -0.0002 dB 0.0009\n",
      "[331] LOSS 0.0600 W 0.299 B -0.498 dW -0.0002 dB 0.0007\n",
      "[341] LOSS 0.0600 W 0.300 B -0.498 dW -0.0002 dB 0.0006\n",
      "[351] LOSS 0.0600 W 0.300 B -0.499 dW -0.0001 dB 0.0005\n",
      "[361] LOSS 0.0600 W 0.300 B -0.499 dW -0.0001 dB 0.0004\n",
      "[371] LOSS 0.0600 W 0.300 B -0.499 dW -0.0001 dB 0.0004\n",
      "[381] LOSS 0.0600 W 0.300 B -0.499 dW -0.0001 dB 0.0003\n",
      "[391] LOSS 0.0600 W 0.300 B -0.499 dW -0.0001 dB 0.0003\n",
      "[401] LOSS 0.0600 W 0.300 B -0.499 dW -0.0001 dB 0.0002\n",
      "[411] LOSS 0.0600 W 0.300 B -0.499 dW -0.0001 dB 0.0002\n",
      "[421] LOSS 0.0600 W 0.300 B -0.500 dW -0.0000 dB 0.0002\n",
      "[431] LOSS 0.0600 W 0.300 B -0.500 dW -0.0000 dB 0.0001\n",
      "[441] LOSS 0.0600 W 0.300 B -0.500 dW -0.0000 dB 0.0001\n",
      "[451] LOSS 0.0600 W 0.300 B -0.500 dW -0.0000 dB 0.0001\n",
      "[461] LOSS 0.0600 W 0.300 B -0.500 dW -0.0000 dB 0.0001\n",
      "[471] LOSS 0.0600 W 0.300 B -0.500 dW -0.0000 dB 0.0001\n",
      "[481] LOSS 0.0600 W 0.300 B -0.500 dW -0.0000 dB 0.0001\n",
      "[491] LOSS 0.0600 W 0.300 B -0.500 dW -0.0000 dB 0.0000\n",
      "[501] LOSS 0.0600 W 0.300 B -0.500 dW -0.0000 dB 0.0000\n",
      "[511] LOSS 0.0600 W 0.300 B -0.500 dW -0.0000 dB 0.0000\n",
      "[521] LOSS 0.0600 W 0.300 B -0.500 dW -0.0000 dB 0.0000\n",
      "[531] LOSS 0.0600 W 0.300 B -0.500 dW -0.0000 dB 0.0000\n",
      "[541] LOSS 0.0600 W 0.300 B -0.500 dW -0.0000 dB 0.0000\n",
      "[551] LOSS 0.0600 W 0.300 B -0.500 dW -0.0000 dB 0.0000\n",
      "[561] LOSS 0.0600 W 0.300 B -0.500 dW -0.0000 dB 0.0000\n",
      "[571] LOSS 0.0600 W 0.300 B -0.500 dW -0.0000 dB 0.0000\n",
      "[581] LOSS 0.0600 W 0.300 B -0.500 dW -0.0000 dB 0.0000\n",
      "GOOD !!\n",
      "('W', 0.2999920461731896)\n",
      "('B', -0.4999712841614789)\n"
     ]
    }
   ],
   "source": [
    "import random\n",
    "W = random.random() * 0.1\n",
    "B = random.random() * 0.1\n",
    "print('초기값:', W, B)\n",
    "RATE = 0.05\n",
    "hist = []\n",
    "for i in range(2000):\n",
    "    gw, gb = get_gradient(dW_eq[1], dB_eq[1], W, B) \n",
    "    W = W - RATE * gw\n",
    "    B = B - RATE * gb\n",
    "    loss = calc_loss_of_MSE(mse_eq[1], W, B)\n",
    "    if loss < 0.0001 or (abs(gw) < 0.00001 and abs(gb) < 0.00001):\n",
    "        print('GOOD !!')\n",
    "        break\n",
    "    hist.append( (loss, W, B, gw, gb) )\n",
    "    if i % 10 == 1: \n",
    "        print('[%03d] LOSS %.4f W %.3f B %.3f dW %.4f dB %.4f' % (i, loss, W, B, gw, gb))\n",
    "print('W', W)\n",
    "print('B', B)        "
   ]
  },
  {
   "cell_type": "code",
   "execution_count": 22,
   "metadata": {
    "colab": {
     "base_uri": "https://localhost:8080/",
     "height": 50
    },
    "colab_type": "code",
    "executionInfo": {
     "elapsed": 754,
     "status": "ok",
     "timestamp": 1551181467181,
     "user": {
      "displayName": "한대희",
      "photoUrl": "",
      "userId": "17475105266749362233"
     },
     "user_tz": -540
    },
    "id": "k66mycp1hx9V",
    "outputId": "de441be5-a7a3-4dc6-81a0-cd76932d3ea3",
    "scrolled": true
   },
   "outputs": [
    {
     "name": "stdout",
     "output_type": "stream",
     "text": [
      "('W', 0.2999200210182677)\n",
      "('B', -0.49971125049875276)\n"
     ]
    }
   ],
   "source": [
    "print('W', W)\n",
    "print('B', B)"
   ]
  },
  {
   "cell_type": "code",
   "execution_count": 0,
   "metadata": {
    "colab": {},
    "colab_type": "code",
    "id": "Xqr961_Nhx9Y"
   },
   "outputs": [],
   "source": [
    "card_from_model = [B + W * x for x in income] "
   ]
  },
  {
   "cell_type": "code",
   "execution_count": 0,
   "metadata": {
    "colab": {},
    "colab_type": "code",
    "id": "MRFXlrR8n5b_"
   },
   "outputs": [],
   "source": []
  },
  {
   "cell_type": "code",
   "execution_count": 24,
   "metadata": {
    "colab": {
     "base_uri": "https://localhost:8080/",
     "height": 361
    },
    "colab_type": "code",
    "executionInfo": {
     "elapsed": 800,
     "status": "ok",
     "timestamp": 1551181521649,
     "user": {
      "displayName": "한대희",
      "photoUrl": "",
      "userId": "17475105266749362233"
     },
     "user_tz": -540
    },
    "id": "dQHqS39Dhx9a",
    "outputId": "cb08cca5-b6ea-48c4-8218-5bb8d482c2ea"
   },
   "outputs": [
    {
     "data": {
      "image/png": "[encoded data removed]",
      "text/plain": [
       "<Figure size 576x396 with 1 Axes>"
      ]
     },
     "metadata": {
      "tags": []
     },
     "output_type": "display_data"
    }
   ],
   "source": [
    "fig, ax = plt.subplots()\n",
    "ax.plot(income, card, label='Real')\n",
    "ax.plot(income, card_from_model, label='Model')\n",
    "ax.scatter(income, card, c='blue')\n",
    "ax.scatter(income, card_from_model, c='red')\n",
    "ax.set_xlabel('Income')\n",
    "ax.set_ylabel('Card')\n",
    "plt.legend()\n",
    "plt.show()"
   ]
  },
  {
   "cell_type": "markdown",
   "metadata": {
    "colab_type": "text",
    "id": "08hg1iy2hx9d"
   },
   "source": [
    "### loss변화 이력,  W, B 변화 이력 "
   ]
  },
  {
   "cell_type": "code",
   "execution_count": 19,
   "metadata": {
    "colab": {
     "base_uri": "https://localhost:8080/",
     "height": 366
    },
    "colab_type": "code",
    "executionInfo": {
     "elapsed": 701,
     "status": "ok",
     "timestamp": 1551181252502,
     "user": {
      "displayName": "한대희",
      "photoUrl": "",
      "userId": "17475105266749362233"
     },
     "user_tz": -540
    },
    "id": "y8dzECTBhx9f",
    "outputId": "a40166f8-45c8-451c-ef9e-6ea0afa82e61"
   },
   "outputs": [
    {
     "name": "stdout",
     "output_type": "stream",
     "text": [
      "(445, 5)\n"
     ]
    },
    {
     "data": {
      "image/png": "[encoded data removed]",
      "text/plain": [
       "<Figure size 576x396 with 1 Axes>"
      ]
     },
     "metadata": {
      "tags": []
     },
     "output_type": "display_data"
    }
   ],
   "source": [
    "hist = np.array(hist)\n",
    "print(hist.shape)\n",
    "fig, ax = plt.subplots()\n",
    "ax.plot(hist[:100, 1], label='W', c='blue')\n",
    "ax.plot(hist[:100, 2], label='B', c='green')\n",
    "ax.plot(hist[:100, 0], label='loss', c='red')\n",
    "plt.legend()\n",
    "plt.show()"
   ]
  },
  {
   "cell_type": "code",
   "execution_count": 0,
   "metadata": {
    "colab": {},
    "colab_type": "code",
    "id": "QuuD-0MHm4R7"
   },
   "outputs": [],
   "source": []
  }
 ],
 "metadata": {
  "colab": {
   "name": "regression3_gradient.ipynb",
   "provenance": [],
   "version": "0.3.2"
  },
  "kernelspec": {
   "display_name": "Python 3",
   "language": "python",
   "name": "python3"
  },
  "language_info": {
   "codemirror_mode": {
    "name": "ipython",
    "version": 3
   },
   "file_extension": ".py",
   "mimetype": "text/x-python",
   "name": "python",
   "nbconvert_exporter": "python",
   "pygments_lexer": "ipython3",
   "version": "3.6.4"
  },
  "toc": {
   "base_numbering": 1,
   "nav_menu": {},
   "number_sections": true,
   "sideBar": true,
   "skip_h1_title": false,
   "title_cell": "Table of Contents",
   "title_sidebar": "Contents",
   "toc_cell": false,
   "toc_position": {},
   "toc_section_display": true,
   "toc_window_display": false
  }
 },
 "nbformat": 4,
 "nbformat_minor": 1
}
