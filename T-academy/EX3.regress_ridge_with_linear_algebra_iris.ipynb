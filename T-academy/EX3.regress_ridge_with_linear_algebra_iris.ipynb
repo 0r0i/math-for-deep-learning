{
 "cells": [
  {
   "cell_type": "markdown",
   "metadata": {},
   "source": [
    "* 마이캠퍼스 한대희 , daehee@mycampus.io, 010-2101-0255\n",
    "* 데이터분석/인공지능을 위한 딥러닝 스쿨 --> http://bit.ly/2TXlJJ4"
   ]
  },
  {
   "cell_type": "markdown",
   "metadata": {
    "colab_type": "text",
    "id": "ZG4fxaUut8_u"
   },
   "source": [
    "## 다항 변수에 대한 Ridge Regression - Linear Algebra로 구현. 다항 회귀 분석\n",
    "### numpy로 구현"
   ]
  },
  {
   "cell_type": "code",
   "execution_count": 0,
   "metadata": {
    "colab": {},
    "colab_type": "code",
    "id": "_JVEjBCDiBhu"
   },
   "outputs": [],
   "source": [
    "import numpy as np\n",
    "from sklearn import datasets\n",
    "\n",
    "iris = datasets.load_iris()"
   ]
  },
  {
   "cell_type": "code",
   "execution_count": 0,
   "metadata": {
    "colab": {},
    "colab_type": "code",
    "id": "OPPekwtVwBOx"
   },
   "outputs": [],
   "source": [
    "X = iris.data\n",
    "Y = iris.target\n",
    "Y = Y.reshape((-1, 1))"
   ]
  },
  {
   "cell_type": "code",
   "execution_count": 32,
   "metadata": {
    "colab": {
     "base_uri": "https://localhost:8080/",
     "height": 50
    },
    "colab_type": "code",
    "executionInfo": {
     "elapsed": 909,
     "status": "ok",
     "timestamp": 1553010206091,
     "user": {
      "displayName": "한대희",
      "photoUrl": "",
      "userId": "17475105266749362233"
     },
     "user_tz": -540
    },
    "id": "zn5UfsnnuGQR",
    "outputId": "154b81d5-e11b-4c48-ec83-2c97fbe15858"
   },
   "outputs": [
    {
     "name": "stdout",
     "output_type": "stream",
     "text": [
      "(100, 4)\n",
      "(50, 4)\n"
     ]
    }
   ],
   "source": [
    "NUM = 100\n",
    "Xtr = X[:NUM]\n",
    "Ytr = Y[:NUM]\n",
    "Xte = X[NUM:]\n",
    "Yte = Y[NUM:]\n",
    "print(Xtr.shape)\n",
    "print(Xte.shape)"
   ]
  },
  {
   "cell_type": "code",
   "execution_count": 0,
   "metadata": {
    "colab": {},
    "colab_type": "code",
    "id": "Q2Yf-_VQteOE"
   },
   "outputs": [],
   "source": [
    "def rmse(arr1, arr2):\n",
    "    return np.sqrt(np.mean((arr1-arr2)**2))"
   ]
  },
  {
   "cell_type": "code",
   "execution_count": 0,
   "metadata": {
    "colab": {},
    "colab_type": "code",
    "id": "lefyeSPUxsdZ"
   },
   "outputs": [],
   "source": [
    "\n",
    "# 주어진 모델로 실행하고, 결과 성능 출력하기\n",
    "from sklearn.metrics import mean_squared_error, r2_score\n",
    "\n",
    "def exe_regression(model, Xtr, Ytr, Xte, Yte):\n",
    "  model.fit(Xtr, Ytr)\n",
    "  Y2 = model.predict(Xte)\n",
    "  rmse_v = rmse(Yte, Y2)\n",
    "  print(\"RMSE: %.4f\" % (rmse_v))\n",
    "  print(\"MSE: %.4f\" % mean_squared_error(Yte, Y2))\n",
    "  print('R2: %.4f' % r2_score(Yte, Y2))"
   ]
  },
  {
   "cell_type": "code",
   "execution_count": 0,
   "metadata": {
    "colab": {},
    "colab_type": "code",
    "id": "Np6V9ZQ1VqiR"
   },
   "outputs": [],
   "source": [
    "\"\"\"\n",
    "scikit-learn의 LinearRegression()을 직접 만들어 보기\n",
    "https://scikit-learn.org/stable/modules/generated/sklearn.linear_model.Ridge.html\n",
    "\"\"\"\n",
    "def my_ridge_regrssion_with_la(X, Y, alpha=1.0, debug=False):  \n",
    "  # X.shape[0] - 행의 갯수\n",
    "  rows = X.shape[0]\n",
    "  X = X.reshape((rows, -1)) # 1차원벡터인 경우, 행열로 변환\n",
    "  Y = Y.reshape((rows, -1)) # 1차원벡터인 경우, 행열로 변환\n",
    "      \n",
    "  xx = X.T.dot(X) # X*X\n",
    "  A = np.eye(xx.shape[0])\n",
    "  A[0,0] = 0 # the bias term θ0 is not regularized\n",
    "  print(A)\n",
    "  xx = xx + alpha * A\n",
    "  xx_inv = np.linalg.inv(xx)  # (X*X)^-1\n",
    "  xy = X.T.dot(Y) # X*Y\n",
    "  \n",
    "  W = np.matmul(xx_inv, xy) # XY/XX\n",
    "  W = W.reshape((-1))\n",
    "  if debug: print(xx_inv, xy)\n",
    "  return W\n"
   ]
  },
  {
   "cell_type": "code",
   "execution_count": 0,
   "metadata": {
    "colab": {},
    "colab_type": "code",
    "id": "KGFfqNGcuos-"
   },
   "outputs": [],
   "source": [
    "### 내 regression 클래스 만들기\n",
    "class MyRegressWithLa(object):\n",
    "  #def __init__(self):\n",
    "  #  self.w =  None\n",
    "    \n",
    "  def fit(self, X, Y):\n",
    "    rows = X.shape[0] # X.shape[0] - 행의 갯수\n",
    "    X = X.reshape((rows, -1)) # 1차원벡터인 경우, 행열로 변환\n",
    "    Y = Y.reshape((rows, -1)) # 1차원벡터인 경우, 행열로 변환\n",
    "    \n",
    "    # bias 에 해당하는 [1,1,1, ..,1] 칼럼을 X에 추가한다.\n",
    "    Xb = np.append(np.ones((rows, 1)), X, axis=1)\n",
    "    self.w = my_ridge_regrssion_with_la(Xb, Y)\n",
    "    \n",
    "  def predict(self, X):\n",
    "    rows = X.shape[0] # X.shape[0] - 행의 갯수\n",
    "    Xb = np.append(np.ones((rows, 1)), X, axis=1)\n",
    "    pred = np.matmul(Xb, self.w)\n",
    "    return pred"
   ]
  },
  {
   "cell_type": "code",
   "execution_count": 42,
   "metadata": {
    "colab": {
     "base_uri": "https://localhost:8080/",
     "height": 306
    },
    "colab_type": "code",
    "executionInfo": {
     "elapsed": 592,
     "status": "ok",
     "timestamp": 1553010327587,
     "user": {
      "displayName": "한대희",
      "photoUrl": "",
      "userId": "17475105266749362233"
     },
     "user_tz": -540
    },
    "id": "SNIX7BwiWs9k",
    "outputId": "0e794a78-26c0-4996-adaf-71615a164e64"
   },
   "outputs": [
    {
     "name": "stdout",
     "output_type": "stream",
     "text": [
      "=== scikit-learn Regression\n",
      "RMSE: 0.6368\n",
      "MSE: 0.4055\n",
      "R2: 0.0000\n",
      "W {'alpha': 1.0, 'copy_X': True, 'fit_intercept': True, 'max_iter': None, 'normalize': False, 'random_state': None, 'solver': 'cholesky', 'tol': 0.1}\n",
      "W [[-0.02831036 -0.15751638  0.23776063  0.19955926]] [0.3059425]\n",
      "=== My Regression\n",
      "[[0. 0. 0. 0. 0.]\n",
      " [0. 1. 0. 0. 0.]\n",
      " [0. 0. 1. 0. 0.]\n",
      " [0. 0. 0. 1. 0.]\n",
      " [0. 0. 0. 0. 1.]]\n",
      "RMSE: 0.6368\n",
      "MSE: 0.4055\n",
      "R2: 0.0000\n",
      "W [ 0.3059425  -0.02831036 -0.15751638  0.23776063  0.19955926]\n"
     ]
    }
   ],
   "source": [
    "from sklearn.linear_model import LinearRegression, Ridge\n",
    "\n",
    "mymodel = MyRegressWithLa()\n",
    "skmodel = Ridge(alpha=1.0, fit_intercept=True, solver='cholesky', tol=0.1)\n",
    "\n",
    "print('=== scikit-learn Regression')\n",
    "exe_regression(skmodel, Xtr, Ytr, Xte, Yte)\n",
    "print('W', skmodel.get_params())\n",
    "print('W', skmodel.coef_, skmodel.intercept_)\n",
    "\n",
    "print('=== My Regression')\n",
    "exe_regression(mymodel, Xtr, Ytr, Xte, Yte)\n",
    "print('W', mymodel.w)\n",
    "\n",
    "\n",
    "\n",
    "  "
   ]
  },
  {
   "cell_type": "code",
   "execution_count": 38,
   "metadata": {
    "colab": {
     "base_uri": "https://localhost:8080/",
     "height": 50
    },
    "colab_type": "code",
    "executionInfo": {
     "elapsed": 821,
     "status": "ok",
     "timestamp": 1553010208511,
     "user": {
      "displayName": "한대희",
      "photoUrl": "",
      "userId": "17475105266749362233"
     },
     "user_tz": -540
    },
    "id": "9DPQB69JU81c",
    "outputId": "40b57a3f-5f81-49c1-cf80-6a4b6999ee1c"
   },
   "outputs": [
    {
     "name": "stdout",
     "output_type": "stream",
     "text": [
      "[[0.2337478  0.3369713  0.28724427]]\n",
      "[[0.2337478  0.3369713  0.28724427]] 0.0\n"
     ]
    }
   ],
   "source": [
    "import numpy as np\n",
    "A = np.asmatrix(np.random.rand(10,3))\n",
    "b = np.asmatrix(np.random.rand(10,1))\n",
    "I = np.identity(A.shape[1])\n",
    "alpha = 1\n",
    "x = np.linalg.inv(A.T*A + alpha * I)*A.T*b\n",
    "print (x.T)\n",
    "\n",
    "\n",
    "from sklearn.linear_model import Ridge\n",
    "model = Ridge(alpha = alpha, tol=0.1, fit_intercept=False).fit(A ,b)\n",
    "\n",
    "print(model.coef_, model.intercept_)"
   ]
  },
  {
   "cell_type": "code",
   "execution_count": 27,
   "metadata": {
    "colab": {
     "base_uri": "https://localhost:8080/",
     "height": 118
    },
    "colab_type": "code",
    "executionInfo": {
     "elapsed": 1781,
     "status": "ok",
     "timestamp": 1553010118090,
     "user": {
      "displayName": "한대희",
      "photoUrl": "",
      "userId": "17475105266749362233"
     },
     "user_tz": -540
    },
    "id": "I6CKRNialn8q",
    "outputId": "4e87acc6-eaa7-4364-bdbd-8cf84c5ada45"
   },
   "outputs": [
    {
     "name": "stdout",
     "output_type": "stream",
     "text": [
      "[[0. 0. 0. 0.]\n",
      " [0. 1. 0. 0.]\n",
      " [0. 0. 1. 0.]\n",
      " [0. 0. 0. 1.]]\n",
      "[[ 0.54667466 -0.10778718  0.10071568 -0.05677392]]\n",
      "[[-0.10778718  0.10071568 -0.05677392]] [0.54667466]\n"
     ]
    }
   ],
   "source": [
    "import numpy as np\n",
    "A = np.asmatrix(np.random.rand(10,3))\n",
    "A2 = np.c_[np.ones((10, 1)), A]\n",
    "b = np.asmatrix(np.random.rand(10,1))\n",
    "I = np.identity(A2.shape[1])\n",
    "I[0,0] = 0\n",
    "print(I)\n",
    "alpha = 1\n",
    "x = np.linalg.inv(A2.T*A2 + alpha * I)*A2.T*b\n",
    "print (x.T)\n",
    "\n",
    "\n",
    "from sklearn.linear_model import Ridge\n",
    "model = Ridge(alpha = alpha, tol=0.1, fit_intercept=True).fit(A ,b)\n",
    "\n",
    "print(model.coef_, model.intercept_)"
   ]
  },
  {
   "cell_type": "code",
   "execution_count": 0,
   "metadata": {
    "colab": {},
    "colab_type": "code",
    "id": "Asl41aDtm82q"
   },
   "outputs": [],
   "source": []
  }
 ],
 "metadata": {
  "colab": {
   "collapsed_sections": [],
   "name": "EX3.regress_ridge_with_linear_algebra_iris.ipynb",
   "provenance": [],
   "version": "0.3.2"
  },
  "kernelspec": {
   "display_name": "Python 3",
   "language": "python",
   "name": "python3"
  },
  "language_info": {
   "codemirror_mode": {
    "name": "ipython",
    "version": 3
   },
   "file_extension": ".py",
   "mimetype": "text/x-python",
   "name": "python",
   "nbconvert_exporter": "python",
   "pygments_lexer": "ipython3",
   "version": "3.6.4"
  },
  "toc": {
   "base_numbering": 1,
   "nav_menu": {},
   "number_sections": true,
   "sideBar": true,
   "skip_h1_title": false,
   "title_cell": "Table of Contents",
   "title_sidebar": "Contents",
   "toc_cell": false,
   "toc_position": {},
   "toc_section_display": true,
   "toc_window_display": false
  }
 },
 "nbformat": 4,
 "nbformat_minor": 1
}
