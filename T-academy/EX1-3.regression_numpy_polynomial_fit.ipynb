{
 "cells": [
  {
   "cell_type": "markdown",
   "metadata": {},
   "source": [
    "* 마이캠퍼스 한대희 , daehee@mycampus.io, 010-2101-0255\n",
    "* 데이터분석/인공지능을 위한 딥러닝 스쿨 --> http://bit.ly/2TXlJJ4"
   ]
  },
  {
   "cell_type": "markdown",
   "metadata": {
    "colab_type": "text",
    "id": "eiQKSyGVqWrD"
   },
   "source": [
    "### curve-fitting 방법 중의 하나 - polynomial_fit\n",
    "\n",
    "##### Linear Regression  (월수익과 카드사용액의 관계)\n",
    "#### X(월수익), Y(카드사용액) 관계를 일차함수로 표현(모델링)하기. \n",
    "\n",
    "* Wikipedia, “Curve fitting”, http://en.wikipedia.org/wiki/Curve_fitting\n",
    "* Wikipedia, “Polynomial interpolation”, http://en.wikipedia.org/wiki/Polynomial_interpolation\n",
    "\n",
    "일자: 2018/01\n",
    "저자: 한대희 daehee@mycampus.io"
   ]
  },
  {
   "cell_type": "code",
   "execution_count": 1,
   "metadata": {
    "colab": {
     "base_uri": "https://localhost:8080/",
     "height": 104
    },
    "colab_type": "code",
    "executionInfo": {
     "elapsed": 814,
     "status": "ok",
     "timestamp": 1552482067138,
     "user": {
      "displayName": "한대희",
      "photoUrl": "",
      "userId": "17475105266749362233"
     },
     "user_tz": -540
    },
    "id": "JPocE2sKqWrE",
    "outputId": "683e8af0-2742-4be0-9128-f0c848040a1f"
   },
   "outputs": [
    {
     "name": "stdout",
     "output_type": "stream",
     "text": [
      "  30 = w * 100 + b * 1\n",
      "  57 = w * 200 + b * 1\n",
      "  76 = w * 300 + b * 1\n",
      " 140 = w * 400 + b * 1\n",
      " 197 = w * 500 + b * 1\n"
     ]
    }
   ],
   "source": [
    "import math\n",
    "import matplotlib.pyplot as plt\n",
    "import numpy as np\n",
    "income = [100,200,300,400,500] # 월수익\n",
    "card = [30, 57, 76, 140, 197] # 카드사용금액\n",
    "for x, y in zip(income, card):\n",
    "    print('%4d = w * %3d + b * 1' % (y, x))"
   ]
  },
  {
   "cell_type": "code",
   "execution_count": 0,
   "metadata": {
    "colab": {},
    "colab_type": "code",
    "id": "fN-oLtqfJEQ5"
   },
   "outputs": [],
   "source": []
  },
  {
   "cell_type": "code",
   "execution_count": 2,
   "metadata": {
    "colab": {
     "base_uri": "https://localhost:8080/",
     "height": 35
    },
    "colab_type": "code",
    "executionInfo": {
     "elapsed": 456,
     "status": "ok",
     "timestamp": 1552482067474,
     "user": {
      "displayName": "한대희",
      "photoUrl": "",
      "userId": "17475105266749362233"
     },
     "user_tz": -540
    },
    "id": "7lbsAwrVqWrJ",
    "outputId": "eb0f6725-86e3-45b4-c31b-64f25b90594f"
   },
   "outputs": [
    {
     "name": "stdout",
     "output_type": "stream",
     "text": [
      "[1 2 3 4 5]\n"
     ]
    }
   ],
   "source": [
    "income = np.array(income)\n",
    "income = income / 100.0\n",
    "print(income)"
   ]
  },
  {
   "cell_type": "code",
   "execution_count": 3,
   "metadata": {
    "colab": {
     "base_uri": "https://localhost:8080/",
     "height": 35
    },
    "colab_type": "code",
    "executionInfo": {
     "elapsed": 547,
     "status": "ok",
     "timestamp": 1552482068104,
     "user": {
      "displayName": "한대희",
      "photoUrl": "",
      "userId": "17475105266749362233"
     },
     "user_tz": -540
    },
    "id": "evp_zjOEqWrM",
    "outputId": "22bdb29b-b995-40d8-be6e-35c28cdbce82"
   },
   "outputs": [
    {
     "name": "stdout",
     "output_type": "stream",
     "text": [
      "[0.3  0.57 0.76 1.4  1.97]\n"
     ]
    }
   ],
   "source": [
    "card = np.array(card)\n",
    "card = card / 100.0\n",
    "print(card)"
   ]
  },
  {
   "cell_type": "markdown",
   "metadata": {
    "colab_type": "text",
    "id": "fDIieedkqWrP"
   },
   "source": [
    "### Y' = W*X + B 로  ploy fit"
   ]
  },
  {
   "cell_type": "code",
   "execution_count": 4,
   "metadata": {
    "colab": {
     "base_uri": "https://localhost:8080/",
     "height": 35
    },
    "colab_type": "code",
    "executionInfo": {
     "elapsed": 1091,
     "status": "ok",
     "timestamp": 1552482070373,
     "user": {
      "displayName": "한대희",
      "photoUrl": "",
      "userId": "17475105266749362233"
     },
     "user_tz": -540
    },
    "id": "ozdZCe3rqWrP",
    "outputId": "7e844bde-b65a-424b-910b-73655def5e12"
   },
   "outputs": [
    {
     "name": "stdout",
     "output_type": "stream",
     "text": [
      "[ 0.417 -0.251]\n"
     ]
    }
   ],
   "source": [
    "w = np.polyfit(income, card, 1)\n",
    "print(w)\n",
    "a = w[0]\n",
    "b = w[1]\n",
    "card_from_model = [x*a + b for x in income] "
   ]
  },
  {
   "cell_type": "code",
   "execution_count": 5,
   "metadata": {
    "colab": {
     "base_uri": "https://localhost:8080/",
     "height": 35
    },
    "colab_type": "code",
    "executionInfo": {
     "elapsed": 663,
     "status": "ok",
     "timestamp": 1552482070374,
     "user": {
      "displayName": "한대희",
      "photoUrl": "",
      "userId": "17475105266749362233"
     },
     "user_tz": -540
    },
    "id": "lGqrLrStqWrS",
    "outputId": "ea796db7-ea9b-42e4-e6d7-79ded88c34d9"
   },
   "outputs": [
    {
     "name": "stdout",
     "output_type": "stream",
     "text": [
      "[ 0.075 -0.033  0.274]\n"
     ]
    }
   ],
   "source": [
    "w = np.polyfit(income, card, 2)\n",
    "print(w)"
   ]
  },
  {
   "cell_type": "code",
   "execution_count": 6,
   "metadata": {
    "colab": {
     "base_uri": "https://localhost:8080/",
     "height": 35
    },
    "colab_type": "code",
    "executionInfo": {
     "elapsed": 643,
     "status": "ok",
     "timestamp": 1552482070773,
     "user": {
      "displayName": "한대희",
      "photoUrl": "",
      "userId": "17475105266749362233"
     },
     "user_tz": -540
    },
    "id": "13RwBA8iqWrV",
    "outputId": "ba6aec08-a75a-4c3c-f11e-0c738116691c"
   },
   "outputs": [
    {
     "name": "stdout",
     "output_type": "stream",
     "text": [
      "[ 0.00083333  0.0675     -0.01333333  0.26      ]\n"
     ]
    }
   ],
   "source": [
    "w = np.polyfit(income, card, 3)\n",
    "print(w)"
   ]
  },
  {
   "cell_type": "code",
   "execution_count": 7,
   "metadata": {
    "colab": {
     "base_uri": "https://localhost:8080/",
     "height": 361
    },
    "colab_type": "code",
    "executionInfo": {
     "elapsed": 1104,
     "status": "ok",
     "timestamp": 1552482071795,
     "user": {
      "displayName": "한대희",
      "photoUrl": "",
      "userId": "17475105266749362233"
     },
     "user_tz": -540
    },
    "id": "pJGccAelqWrY",
    "outputId": "fcb9031b-5827-4d81-d743-894e297b3170"
   },
   "outputs": [
    {
     "data": {
      "image/png": "[encoded data removed]",
      "text/plain": [
       "<Figure size 576x396 with 1 Axes>"
      ]
     },
     "metadata": {
      "tags": []
     },
     "output_type": "display_data"
    }
   ],
   "source": [
    "fig, ax = plt.subplots()\n",
    "ax.plot(income, card, label='Real')\n",
    "ax.plot(income, card_from_model, label='Model')\n",
    "ax.scatter(income, card, c='blue')\n",
    "ax.scatter(income, card_from_model, c='red')\n",
    "ax.set_xlabel('Income')\n",
    "ax.set_ylabel('Card')\n",
    "plt.legend()\n",
    "plt.show()"
   ]
  },
  {
   "cell_type": "code",
   "execution_count": 16,
   "metadata": {
    "colab": {
     "base_uri": "https://localhost:8080/",
     "height": 395
    },
    "colab_type": "code",
    "executionInfo": {
     "elapsed": 918,
     "status": "ok",
     "timestamp": 1552482810259,
     "user": {
      "displayName": "한대희",
      "photoUrl": "",
      "userId": "17475105266749362233"
     },
     "user_tz": -540
    },
    "id": "4ufY50fDqWrb",
    "outputId": "ae8cf702-4e25-4c82-9476-3222bc791abf"
   },
   "outputs": [
    {
     "name": "stderr",
     "output_type": "stream",
     "text": [
      "/usr/local/lib/python2.7/dist-packages/ipykernel_launcher.py:4: RankWarning: Polyfit may be poorly conditioned\n",
      "  after removing the cwd from sys.path.\n"
     ]
    },
    {
     "data": {
      "image/png": "[encoded data removed]",
      "text/plain": [
       "<Figure size 576x396 with 1 Axes>"
      ]
     },
     "metadata": {
      "tags": []
     },
     "output_type": "display_data"
    }
   ],
   "source": [
    "p1 = np.poly1d(np.polyfit(income, card, 1))\n",
    "p2 = np.poly1d(np.polyfit(income, card, 2))\n",
    "p3 = np.poly1d(np.polyfit(income, card, 3))\n",
    "p10 = np.poly1d(np.polyfit(income, card, 10))\n",
    "\n",
    "fig, ax = plt.subplots()\n",
    "ax.plot(income, card, label='Real')\n",
    "#ax.plot(income, p1(income), label='P1', c='black')\n",
    "ax.plot(income, p2(income), label='P2', c='red')\n",
    "#ax.plot(income, p3(income), label='P3', c='green')\n",
    "ax.plot(income, p10(income), label='P10', c='violet')\n",
    "ax.scatter(income, card, c='blue')\n",
    "#ax.scatter(income, p1(income), c='black')\n",
    "ax.scatter(income, p2(income), c='red')\n",
    "#ax.scatter(income, p3(income), c='green')\n",
    "income2 = np.array(range(500))\n",
    "income2 = income2 / 100.0\n",
    "ax.scatter(income2, p10(income2), c='violet')\n",
    "ax.set_xlabel('Income')\n",
    "ax.set_ylabel('Card')\n",
    "plt.legend()\n",
    "plt.show()"
   ]
  },
  {
   "cell_type": "code",
   "execution_count": 0,
   "metadata": {
    "colab": {},
    "colab_type": "code",
    "id": "fdQiXBf9qWre"
   },
   "outputs": [],
   "source": []
  }
 ],
 "metadata": {
  "colab": {
   "name": "regression2_numpy_polynomial_fit.ipynb",
   "provenance": [],
   "version": "0.3.2"
  },
  "kernelspec": {
   "display_name": "Python 3",
   "language": "python",
   "name": "python3"
  },
  "language_info": {
   "codemirror_mode": {
    "name": "ipython",
    "version": 3
   },
   "file_extension": ".py",
   "mimetype": "text/x-python",
   "name": "python",
   "nbconvert_exporter": "python",
   "pygments_lexer": "ipython3",
   "version": "3.6.4"
  },
  "toc": {
   "base_numbering": 1,
   "nav_menu": {},
   "number_sections": true,
   "sideBar": true,
   "skip_h1_title": false,
   "title_cell": "Table of Contents",
   "title_sidebar": "Contents",
   "toc_cell": false,
   "toc_position": {},
   "toc_section_display": true,
   "toc_window_display": false
  }
 },
 "nbformat": 4,
 "nbformat_minor": 1
}
