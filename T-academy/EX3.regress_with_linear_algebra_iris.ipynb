{
 "cells": [
  {
   "cell_type": "markdown",
   "metadata": {},
   "source": [
    "* 마이캠퍼스 한대희 , daehee@mycampus.io, 010-2101-0255\n",
    "* 데이터분석/인공지능을 위한 딥러닝 스쿨 --> http://bit.ly/2TXlJJ4"
   ]
  },
  {
   "cell_type": "markdown",
   "metadata": {
    "colab_type": "text",
    "id": "ZG4fxaUut8_u"
   },
   "source": [
    "## 다항 변수에 대한 regression. 다항 회귀 분석"
   ]
  },
  {
   "cell_type": "code",
   "execution_count": 0,
   "metadata": {
    "colab": {},
    "colab_type": "code",
    "id": "_JVEjBCDiBhu"
   },
   "outputs": [],
   "source": [
    "import numpy as np\n",
    "from sklearn import datasets\n",
    "\n",
    "iris = datasets.load_iris()"
   ]
  },
  {
   "cell_type": "code",
   "execution_count": 0,
   "metadata": {
    "colab": {},
    "colab_type": "code",
    "id": "OPPekwtVwBOx"
   },
   "outputs": [],
   "source": [
    "X = iris.data\n",
    "Y = iris.target\n",
    "Y = Y.reshape((-1, 1))"
   ]
  },
  {
   "cell_type": "code",
   "execution_count": 11,
   "metadata": {
    "colab": {
     "base_uri": "https://localhost:8080/",
     "height": 50
    },
    "colab_type": "code",
    "executionInfo": {
     "elapsed": 1288,
     "status": "ok",
     "timestamp": 1552929617009,
     "user": {
      "displayName": "한대희",
      "photoUrl": "",
      "userId": "17475105266749362233"
     },
     "user_tz": -540
    },
    "id": "zn5UfsnnuGQR",
    "outputId": "eacfa7ea-e005-4b0e-a8cd-bab55bfc2b52"
   },
   "outputs": [
    {
     "name": "stdout",
     "output_type": "stream",
     "text": [
      "(100, 4)\n",
      "(50, 4)\n"
     ]
    }
   ],
   "source": [
    "NUM = 100\n",
    "Xtr = X[:NUM]\n",
    "Ytr = Y[:NUM]\n",
    "Xte = X[NUM:]\n",
    "Yte = Y[NUM:]\n",
    "print(Xtr.shape)\n",
    "print(Xte.shape)"
   ]
  },
  {
   "cell_type": "code",
   "execution_count": 0,
   "metadata": {
    "colab": {},
    "colab_type": "code",
    "id": "Q2Yf-_VQteOE"
   },
   "outputs": [],
   "source": [
    "def rmse(arr1, arr2):\n",
    "    return np.sqrt(np.mean((arr1-arr2)**2))"
   ]
  },
  {
   "cell_type": "code",
   "execution_count": 0,
   "metadata": {
    "colab": {},
    "colab_type": "code",
    "id": "lefyeSPUxsdZ"
   },
   "outputs": [],
   "source": [
    "\n",
    "# 주어진 모델로 실행하고, 결과 성능 출력하기\n",
    "from sklearn.metrics import mean_squared_error, r2_score\n",
    "\n",
    "def exe_regression(model, Xtr, Ytr, Xte, Yte):\n",
    "  model.fit(Xtr, Ytr)\n",
    "  Y2 = model.predict(Xte)\n",
    "  rmse_v = rmse(Yte, Y2)\n",
    "  print(\"RMSE: %.4f\" % (rmse_v))\n",
    "  print(\"MSE: %.4f\" % mean_squared_error(Yte, Y2))\n",
    "  print('R2: %.4f' % r2_score(Yte, Y2))"
   ]
  },
  {
   "cell_type": "code",
   "execution_count": 0,
   "metadata": {
    "colab": {},
    "colab_type": "code",
    "id": "Np6V9ZQ1VqiR"
   },
   "outputs": [],
   "source": [
    "\"\"\"\n",
    "scikit-learn의 LinearRegression()을 직접 만들어 보기\n",
    "\"\"\"\n",
    "def my_regrssion_with_la(X, Y, debug=False):  \n",
    "  # X.shape[0] - 행의 갯수\n",
    "  rows = X.shape[0]\n",
    "  X = X.reshape((rows, -1)) # 1차원벡터인 경우, 행열로 변환\n",
    "  Y = Y.reshape((rows, -1)) # 1차원벡터인 경우, 행열로 변환\n",
    "      \n",
    "  xx = X.T.dot(X) # X*X  \n",
    "  xx_inv = np.linalg.inv(xx)  # (X*X)^-1\n",
    "  xy = X.T.dot(Y) # X*Y\n",
    "  \n",
    "  W = np.matmul(xx_inv, xy) # XY/XX\n",
    "  W = W.reshape((-1))\n",
    "  if debug: print(xx_inv, xy)\n",
    "  return W\n"
   ]
  },
  {
   "cell_type": "code",
   "execution_count": 0,
   "metadata": {
    "colab": {},
    "colab_type": "code",
    "id": "KGFfqNGcuos-"
   },
   "outputs": [],
   "source": [
    "### 내 regression 클래스 만들기\n",
    "class MyRegressWithLa(object):\n",
    "  #def __init__(self):\n",
    "  #  self.w =  None\n",
    "    \n",
    "  def fit(self, X, Y):\n",
    "    rows = X.shape[0] # X.shape[0] - 행의 갯수\n",
    "    X = X.reshape((rows, -1)) # 1차원벡터인 경우, 행열로 변환\n",
    "    Y = Y.reshape((rows, -1)) # 1차원벡터인 경우, 행열로 변환\n",
    "    \n",
    "    # bias 에 해당하는 [1,1,1, ..,1] 칼럼을 X에 추가한다.\n",
    "    Xb = np.append(X, np.ones((rows, 1)), axis=1)\n",
    "    self.w = my_regrssion_with_la(Xb, Y)\n",
    "    \n",
    "  def predict(self, X):\n",
    "    rows = X.shape[0] # X.shape[0] - 행의 갯수\n",
    "    Xb = np.append(X, np.ones((rows, 1)), axis=1)\n",
    "    pred = np.matmul(Xb, self.w)\n",
    "    return pred"
   ]
  },
  {
   "cell_type": "code",
   "execution_count": 16,
   "metadata": {
    "colab": {
     "base_uri": "https://localhost:8080/",
     "height": 185
    },
    "colab_type": "code",
    "executionInfo": {
     "elapsed": 1031,
     "status": "ok",
     "timestamp": 1552929617513,
     "user": {
      "displayName": "한대희",
      "photoUrl": "",
      "userId": "17475105266749362233"
     },
     "user_tz": -540
    },
    "id": "SNIX7BwiWs9k",
    "outputId": "c70bc7f3-4553-4094-8595-28ceb251fb24"
   },
   "outputs": [
    {
     "name": "stdout",
     "output_type": "stream",
     "text": [
      "=== My Regression\n",
      "RMSE: 0.6191\n",
      "MSE: 0.3833\n",
      "R2: 0.0000\n",
      "W [-0.02848968 -0.16819751  0.20313089  0.28785017  0.36970342]\n",
      "=== scikit-learn Regression\n",
      "RMSE: 0.6191\n",
      "MSE: 0.3833\n",
      "R2: 0.0000\n",
      "W [[-0.02848968 -0.16819751  0.20313089  0.28785017]] [0.36970342]\n"
     ]
    }
   ],
   "source": [
    "from sklearn.linear_model import LinearRegression\n",
    "\n",
    "mymodel = MyRegressWithLa()\n",
    "skmodel = LinearRegression()\n",
    "\n",
    "print('=== My Regression')\n",
    "exe_regression(mymodel, Xtr, Ytr, Xte, Yte)\n",
    "print('W', mymodel.w)\n",
    "\n",
    "print('=== scikit-learn Regression')\n",
    "exe_regression(skmodel, Xtr, Ytr, Xte, Yte)\n",
    "print('W', skmodel.coef_, skmodel.intercept_)\n",
    "\n",
    "  "
   ]
  },
  {
   "cell_type": "code",
   "execution_count": 0,
   "metadata": {
    "colab": {},
    "colab_type": "code",
    "id": "9DPQB69JU81c"
   },
   "outputs": [],
   "source": []
  }
 ],
 "metadata": {
  "colab": {
   "collapsed_sections": [],
   "name": "EX3.multivariate_regress_iris_with_linear_algebra.ipynb",
   "provenance": [],
   "version": "0.3.2"
  },
  "kernelspec": {
   "display_name": "Python 3",
   "language": "python",
   "name": "python3"
  },
  "language_info": {
   "codemirror_mode": {
    "name": "ipython",
    "version": 3
   },
   "file_extension": ".py",
   "mimetype": "text/x-python",
   "name": "python",
   "nbconvert_exporter": "python",
   "pygments_lexer": "ipython3",
   "version": "3.6.4"
  },
  "toc": {
   "base_numbering": 1,
   "nav_menu": {},
   "number_sections": true,
   "sideBar": true,
   "skip_h1_title": false,
   "title_cell": "Table of Contents",
   "title_sidebar": "Contents",
   "toc_cell": false,
   "toc_position": {},
   "toc_section_display": true,
   "toc_window_display": false
  }
 },
 "nbformat": 4,
 "nbformat_minor": 1
}
