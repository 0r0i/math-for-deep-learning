{
 "cells": [
  {
   "cell_type": "markdown",
   "metadata": {},
   "source": [
    "* 마이캠퍼스 한대희 , daehee@mycampus.io, 010-2101-0255\n",
    "* 데이터분석/인공지능을 위한 딥러닝 스쿨 --> http://bit.ly/2TXlJJ4"
   ]
  },
  {
   "cell_type": "markdown",
   "metadata": {
    "colab_type": "text",
    "id": "qV47DupAHuAH"
   },
   "source": [
    "### 수학통계적 방법으로 선형회귀(linear regression) 풀기\n",
    "\n",
    "##### Linear Regression  - 다항변수 고려하여 구현. 함수로 정의\n",
    "일차함수의 기울기 및 Y절편을 행렬식으로 구할 수 있다.\n",
    "numpy를 이용하여 행렬 및 선형대수(linear algebra) 방식으로 계산한다.\n",
    "일자: 2018/01\n",
    "저자: 한대희 daehee@mycampus.io"
   ]
  },
  {
   "cell_type": "code",
   "execution_count": 0,
   "metadata": {
    "colab": {},
    "colab_type": "code",
    "id": "X87ZkwXRHuAJ"
   },
   "outputs": [],
   "source": [
    "import math\n",
    "import matplotlib.pyplot as plt\n",
    "import numpy as np"
   ]
  },
  {
   "cell_type": "code",
   "execution_count": 3,
   "metadata": {
    "colab": {
     "base_uri": "https://localhost:8080/",
     "height": 225
    },
    "colab_type": "code",
    "executionInfo": {
     "elapsed": 1031,
     "status": "ok",
     "timestamp": 1552641819241,
     "user": {
      "displayName": "한대희",
      "photoUrl": "",
      "userId": "17475105266749362233"
     },
     "user_tz": -540
    },
    "id": "hSgbm0KdqAx_",
    "outputId": "bf31ed83-4e80-4e39-bfbc-6a95e929ea73"
   },
   "outputs": [
    {
     "name": "stdout",
     "output_type": "stream",
     "text": [
      "[[ 10  20  30 100]\n",
      " [ 40  50  60 200]]\n"
     ]
    },
    {
     "data": {
      "text/plain": [
       "array([[1.],\n",
       "       [1.],\n",
       "       [1.],\n",
       "       [1.],\n",
       "       [1.],\n",
       "       [1.],\n",
       "       [1.],\n",
       "       [1.],\n",
       "       [1.],\n",
       "       [1.]])"
      ]
     },
     "execution_count": 3,
     "metadata": {
      "tags": []
     },
     "output_type": "execute_result"
    }
   ],
   "source": [
    "x = np.array([[10,20,30], [40,50,60]])\n",
    "y = np.array([[100], [200]])\n",
    "print(np.append(x, y, axis=1))\n",
    "np.ones((10,1))"
   ]
  },
  {
   "cell_type": "markdown",
   "metadata": {
    "colab_type": "text",
    "id": "6d7OUJemtDZC"
   },
   "source": [
    "## scikit-learn의 LinearRegression()을 직접 만들어 보기\n",
    "\n"
   ]
  },
  {
   "cell_type": "code",
   "execution_count": 0,
   "metadata": {
    "colab": {},
    "colab_type": "code",
    "id": "K1g91xvnpLFL"
   },
   "outputs": [],
   "source": [
    "\"\"\"\n",
    "scikit-learn의 LinearRegression()을 직접 만들어 보기\n",
    "\"\"\"\n",
    "def my_regrssion(X, Y, debug=False):  \n",
    "  # X.shape[0] - 행의 갯수\n",
    "  rows = X.shape[0]\n",
    "  X = X.reshape((rows, -1)) # 1차원벡터인 경우, 행열로 변환\n",
    "  Y = Y.reshape((rows, -1)) # 1차원벡터인 경우, 행열로 변환\n",
    "  \n",
    "  # bias 에 해당하는 [1,1,1, ..,1] 칼럼을 X에 추가한다.\n",
    "  X = np.append(X, np.ones((rows, 1)), axis=1)\n",
    "  if debug: print(X)\n",
    "    \n",
    "  xx = X.T.dot(X) # X*X  \n",
    "  xx_inv = np.linalg.inv(xx)  # (X*X)^-1\n",
    "  xy = X.T.dot(Y) # X*Y\n",
    "  \n",
    "  W = np.matmul(xx_inv, xy) # XY/XX\n",
    "  if debug: print(xx_inv, xy)\n",
    "  return W\n"
   ]
  },
  {
   "cell_type": "code",
   "execution_count": 14,
   "metadata": {
    "colab": {
     "base_uri": "https://localhost:8080/",
     "height": 104
    },
    "colab_type": "code",
    "executionInfo": {
     "elapsed": 557,
     "status": "ok",
     "timestamp": 1552642609284,
     "user": {
      "displayName": "한대희",
      "photoUrl": "",
      "userId": "17475105266749362233"
     },
     "user_tz": -540
    },
    "id": "L4rRAWEOpHPu",
    "outputId": "0c04ea0b-c78b-44bf-f389-e3109188db3a"
   },
   "outputs": [
    {
     "name": "stdout",
     "output_type": "stream",
     "text": [
      "  30 = w * 100 + b * 1\n",
      "  57 = w * 200 + b * 1\n",
      "  76 = w * 300 + b * 1\n",
      " 140 = w * 400 + b * 1\n",
      " 197 = w * 500 + b * 1\n"
     ]
    }
   ],
   "source": [
    "income = [100,200,300,400,500] # 월수익\n",
    "card = [30, 57, 76, 140, 197] # 카드사용금액\n",
    "for x, y in zip(income, card):\n",
    "    print('%4d = w * %3d + b * 1' % (y, x))"
   ]
  },
  {
   "cell_type": "code",
   "execution_count": 0,
   "metadata": {
    "colab": {},
    "colab_type": "code",
    "id": "XWE49PweHuAO"
   },
   "outputs": [],
   "source": [
    "X = np.array(income)\n",
    "Y = np.array(card)\n"
   ]
  },
  {
   "cell_type": "code",
   "execution_count": 17,
   "metadata": {
    "colab": {
     "base_uri": "https://localhost:8080/",
     "height": 207
    },
    "colab_type": "code",
    "executionInfo": {
     "elapsed": 683,
     "status": "ok",
     "timestamp": 1552642652595,
     "user": {
      "displayName": "한대희",
      "photoUrl": "",
      "userId": "17475105266749362233"
     },
     "user_tz": -540
    },
    "id": "ta5dAetvrrys",
    "outputId": "6f905976-97f0-4630-85be-0a4029760657"
   },
   "outputs": [
    {
     "name": "stdout",
     "output_type": "stream",
     "text": [
      "[[100.   1.]\n",
      " [200.   1.]\n",
      " [300.   1.]\n",
      " [400.   1.]\n",
      " [500.   1.]]\n",
      "[[ 1.0e-05 -3.0e-03]\n",
      " [-3.0e-03  1.1e+00]] [[191700.]\n",
      " [   500.]] [[  0.417]\n",
      " [-25.1  ]]\n",
      "W [[  0.417]\n",
      " [-25.1  ]]\n"
     ]
    }
   ],
   "source": [
    "w = my_regrssion(X, Y, debug=True)\n",
    "print('W', w)"
   ]
  },
  {
   "cell_type": "markdown",
   "metadata": {
    "colab_type": "text",
    "id": "IkpkIQhPHuAY"
   },
   "source": [
    "### Y' = W*X + B 로  regression"
   ]
  },
  {
   "cell_type": "code",
   "execution_count": 18,
   "metadata": {
    "colab": {
     "base_uri": "https://localhost:8080/",
     "height": 35
    },
    "colab_type": "code",
    "executionInfo": {
     "elapsed": 847,
     "status": "ok",
     "timestamp": 1552642662476,
     "user": {
      "displayName": "한대희",
      "photoUrl": "",
      "userId": "17475105266749362233"
     },
     "user_tz": -540
    },
    "id": "aTd_RDVAHuAY",
    "outputId": "d491d66c-771f-4dcf-d9eb-180781f2591d"
   },
   "outputs": [
    {
     "name": "stdout",
     "output_type": "stream",
     "text": [
      "[array([16.6]), array([58.3]), array([100.]), array([141.7]), array([183.4])]\n"
     ]
    }
   ],
   "source": [
    "A = w[0]\n",
    "B = w[1]\n",
    "card_from_model = [A*x + B for x in income] \n",
    "print(card_from_model)"
   ]
  },
  {
   "cell_type": "code",
   "execution_count": 19,
   "metadata": {
    "colab": {
     "base_uri": "https://localhost:8080/",
     "height": 361
    },
    "colab_type": "code",
    "executionInfo": {
     "elapsed": 1071,
     "status": "ok",
     "timestamp": 1552642664118,
     "user": {
      "displayName": "한대희",
      "photoUrl": "",
      "userId": "17475105266749362233"
     },
     "user_tz": -540
    },
    "id": "ZkBoOB0KHuAc",
    "outputId": "80010fec-72a2-433b-ea10-fb39dde3047a"
   },
   "outputs": [
    {
     "data": {
      "image/png": "[encoded data removed]",
      "text/plain": [
       "<Figure size 576x396 with 1 Axes>"
      ]
     },
     "metadata": {
      "tags": []
     },
     "output_type": "display_data"
    }
   ],
   "source": [
    "fig, ax = plt.subplots()\n",
    "ax.plot(income, card, label='Real')\n",
    "ax.plot(income, card_from_model, label='Model')\n",
    "ax.scatter(income, card, c='blue')\n",
    "ax.scatter(income, card_from_model, c='red')\n",
    "ax.set_xlabel('Income')\n",
    "ax.set_ylabel('Card')\n",
    "plt.legend()\n",
    "plt.show()"
   ]
  },
  {
   "cell_type": "code",
   "execution_count": 0,
   "metadata": {
    "colab": {},
    "colab_type": "code",
    "id": "_EfXOCaXHuAf"
   },
   "outputs": [],
   "source": [
    "from sklearn.linear_model import LinearRegression\n",
    "from sklearn.metrics import mean_squared_error, r2_score\n",
    "import numpy as np\n",
    "\n",
    "def rmse(arr1, arr2):\n",
    "    return np.sqrt(np.mean((arr1-arr2)**2))\n",
    "\n",
    "def linear_reg(X, Y, name=''):  \n",
    "  X = X.reshape((-1, 1))\n",
    "  model = LinearRegression()\n",
    "  model.fit(X, Y)\n",
    "  # model.coef_ -- 기울기\n",
    "  # model.intercept_ -- Y절편(bias)\n",
    "  print('Model Parameters:', model.coef_, model.intercept_)\n",
    "  Y2 = model.predict(X)\n",
    "  rmse_v = rmse(Y, Y2)\n",
    "  print(\"Mean squared error: %.2f\"\n",
    "      % mean_squared_error(Y, Y2))\n",
    "  print('Variance score: %.2f' % r2_score(Y, Y2))\n",
    "  print(\"RMSE of %s: %.2f\" % (name, rmse_v))"
   ]
  },
  {
   "cell_type": "code",
   "execution_count": 0,
   "metadata": {
    "colab": {},
    "colab_type": "code",
    "id": "jiC8HYGpxyXn"
   },
   "outputs": [],
   "source": []
  },
  {
   "cell_type": "code",
   "execution_count": 22,
   "metadata": {
    "colab": {
     "base_uri": "https://localhost:8080/",
     "height": 86
    },
    "colab_type": "code",
    "executionInfo": {
     "elapsed": 991,
     "status": "ok",
     "timestamp": 1552642782234,
     "user": {
      "displayName": "한대희",
      "photoUrl": "",
      "userId": "17475105266749362233"
     },
     "user_tz": -540
    },
    "id": "gdp0vBUuHuAg",
    "outputId": "924c0c60-597f-456e-9f37-47f0e7e2ff12"
   },
   "outputs": [
    {
     "name": "stdout",
     "output_type": "stream",
     "text": [
      "Model Parameters: [0.417] -25.099999999999966\n",
      "Mean squared error: 189.02\n",
      "Variance score: 0.95\n",
      "RMSE of 0: 13.75\n"
     ]
    }
   ],
   "source": [
    "linear_reg(X, Y, '0')\n"
   ]
  },
  {
   "cell_type": "code",
   "execution_count": 0,
   "metadata": {
    "colab": {
     "base_uri": "https://localhost:8080/",
     "height": 365
    },
    "colab_type": "code",
    "executionInfo": {
     "elapsed": 1269,
     "status": "ok",
     "timestamp": 1552556638192,
     "user": {
      "displayName": "한대희",
      "photoUrl": "",
      "userId": "17475105266749362233"
     },
     "user_tz": -540
    },
    "id": "IM442aXdkIIY",
    "outputId": "67af032e-b82b-42be-8da7-b7962d692fdd"
   },
   "outputs": [
    {
     "data": {
      "text/plain": [
       "<matplotlib.axes._subplots.AxesSubplot at 0x7fcce39ec6d0>"
      ]
     },
     "execution_count": 21,
     "metadata": {
      "tags": []
     },
     "output_type": "execute_result"
    },
    {
     "data": {
      "image/png": "[encoded data removed]",
      "text/plain": [
       "<Figure size 576x396 with 1 Axes>"
      ]
     },
     "metadata": {
      "tags": []
     },
     "output_type": "display_data"
    }
   ],
   "source": [
    "import seaborn as sns\n",
    "sns.regplot(X[:, 0], Y.flatten())"
   ]
  },
  {
   "cell_type": "code",
   "execution_count": 0,
   "metadata": {
    "colab": {},
    "colab_type": "code",
    "id": "xJ8CTAA6lV_o"
   },
   "outputs": [],
   "source": []
  }
 ],
 "metadata": {
  "colab": {
   "collapsed_sections": [],
   "name": "EX1_regression_with_linear_algebra.ipynb",
   "provenance": [
    {
     "file_id": "1McVM8Xpol4FlAphICehjP3-qw8uekL5b",
     "timestamp": 1552641162838
    }
   ],
   "version": "0.3.2"
  },
  "kernelspec": {
   "display_name": "Python 3",
   "language": "python",
   "name": "python3"
  },
  "language_info": {
   "codemirror_mode": {
    "name": "ipython",
    "version": 3
   },
   "file_extension": ".py",
   "mimetype": "text/x-python",
   "name": "python",
   "nbconvert_exporter": "python",
   "pygments_lexer": "ipython3",
   "version": "3.6.4"
  },
  "toc": {
   "base_numbering": 1,
   "nav_menu": {},
   "number_sections": true,
   "sideBar": true,
   "skip_h1_title": false,
   "title_cell": "Table of Contents",
   "title_sidebar": "Contents",
   "toc_cell": false,
   "toc_position": {},
   "toc_section_display": true,
   "toc_window_display": false
  }
 },
 "nbformat": 4,
 "nbformat_minor": 1
}
