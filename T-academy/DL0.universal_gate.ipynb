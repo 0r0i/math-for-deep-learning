{
 "cells": [
  {
   "cell_type": "code",
   "execution_count": null,
   "metadata": {},
   "outputs": [],
   "source": [
    "# coding: utf-8\n",
    "import numpy as np\n",
    "\n",
    "\n",
    "def GATE(x1, x2, opname):\n",
    "    SETTING = {\n",
    "        'and': {\n",
    "            'bias': -0.7,\n",
    "            'w1': 0.5,\n",
    "            'w2': 0.5\n",
    "        },\n",
    "        'or': {\n",
    "            'bias': -0.2,\n",
    "            'w1': 0.5,\n",
    "            'w2': 0.5\n",
    "        },\n",
    "        ''\n",
    "        'nand': {\n",
    "            'bias': 0.7,\n",
    "            'w1': -0.5,\n",
    "            'w2': -0.5\n",
    "        },\n",
    "        \n",
    "    }\n",
    "    \n",
    "    try:\n",
    "        paras = SETTING[???]\n",
    "    except:\n",
    "        return 'Operation [%s] NOT supported !!'  % opname\n",
    "    \n",
    "    v = paras['???']*x1 + paras['???']*x2 + paras['???']\n",
    "    if v <= 0:\n",
    "        return 0\n",
    "    else:\n",
    "        return 1\n",
    "\n"
   ]
  },
  {
   "cell_type": "code",
   "execution_count": null,
   "metadata": {},
   "outputs": [],
   "source": [
    "if __name__ == '__main__':\n",
    "    for op in ['not', 'and', 'or', 'nand']:\n",
    "        print('=== %s ===' % op)\n",
    "        for x in [(0, 0), (1, 0), (0, 1), (1, 1)]:\n",
    "            y = GATE(x[0], x[1], op)\n",
    "            print(str(x) + \" -> \" + str(y))\n"
   ]
  }
 ],
 "metadata": {
  "kernelspec": {
   "display_name": "Python 3",
   "language": "python",
   "name": "python3"
  },
  "language_info": {
   "codemirror_mode": {
    "name": "ipython",
    "version": 3
   },
   "file_extension": ".py",
   "mimetype": "text/x-python",
   "name": "python",
   "nbconvert_exporter": "python",
   "pygments_lexer": "ipython3",
   "version": "3.6.4"
  },
  "toc": {
   "base_numbering": 1,
   "nav_menu": {},
   "number_sections": true,
   "sideBar": true,
   "skip_h1_title": false,
   "title_cell": "Table of Contents",
   "title_sidebar": "Contents",
   "toc_cell": false,
   "toc_position": {},
   "toc_section_display": true,
   "toc_window_display": false
  }
 },
 "nbformat": 4,
 "nbformat_minor": 2
}
