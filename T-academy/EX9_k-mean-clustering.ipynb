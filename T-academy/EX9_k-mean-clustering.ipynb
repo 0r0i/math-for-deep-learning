{
 "cells": [
  {
   "cell_type": "markdown",
   "metadata": {},
   "source": [
    "* 마이캠퍼스 한대희 , daehee@mycampus.io, 010-2101-0255\n",
    "* 데이터분석/인공지능을 위한 딥러닝 스쿨 --> http://bit.ly/2TXlJJ4"
   ]
  },
  {
   "cell_type": "code",
   "execution_count": 0,
   "metadata": {
    "colab": {},
    "colab_type": "code",
    "id": "8QiEfmp5PfOt"
   },
   "outputs": [],
   "source": [
    "import collections\n",
    "import numpy as np\n",
    "import pandas as pd\n",
    "from matplotlib import pyplot as plt\n",
    "#import seaborn as sns\n",
    "#sns.set()\n"
   ]
  },
  {
   "cell_type": "code",
   "execution_count": 0,
   "metadata": {
    "colab": {},
    "colab_type": "code",
    "id": "F_xW_QObpSbU"
   },
   "outputs": [],
   "source": [
    "import numpy as np\n",
    "from sklearn import datasets\n",
    "iris = datasets.load_iris()\n",
    "X = iris.data[:, [2,3]] #2,3번 칼럼만 이용하자\n",
    "Y = iris.target"
   ]
  },
  {
   "cell_type": "code",
   "execution_count": 3,
   "metadata": {
    "colab": {
     "base_uri": "https://localhost:8080/",
     "height": 52
    },
    "colab_type": "code",
    "executionInfo": {
     "elapsed": 1632,
     "status": "ok",
     "timestamp": 1554265885746,
     "user": {
      "displayName": "한대희",
      "photoUrl": "",
      "userId": "17475105266749362233"
     },
     "user_tz": -540
    },
    "id": "XQkhzqCmuBD1",
    "outputId": "ee199e4f-e7f6-44bc-ef9c-374400de33fb"
   },
   "outputs": [
    {
     "name": "stdout",
     "output_type": "stream",
     "text": [
      "(100, 2)\n",
      "(50, 2)\n"
     ]
    }
   ],
   "source": [
    "NUM = 100\n",
    "select = np.random.permutation(150)\n",
    "Xtr, Ytr = X[select[:NUM]], Y[select[:NUM]]\n",
    "Xte, Yte = X[select[NUM:]], Y[select[NUM:]]\n",
    "print(Xtr.shape)\n",
    "print(Xte.shape)"
   ]
  },
  {
   "cell_type": "markdown",
   "metadata": {
    "colab_type": "text",
    "id": "Y-YYVKzCHQ-4"
   },
   "source": [
    "# k-Means Clustering 직접 구현.\n",
    "나의 대장을 찾아라 !!"
   ]
  },
  {
   "cell_type": "code",
   "execution_count": 0,
   "metadata": {
    "colab": {},
    "colab_type": "code",
    "id": "8NbJocp0HTlk"
   },
   "outputs": [],
   "source": [
    "# Euclidean Distance Caculator\n",
    "def dist(a, b):\n",
    "    return np.linalg.norm(a - b) # default norm: norm 2\n",
    "  \n",
    "def dist_many(a, b, ax=1):\n",
    "    return np.linalg.norm(a - b, axis=ax) # default norm: norm 2\n",
    "\n",
    "\n",
    "## k-Means Clustering 직접 구현 - 어렵지 않아요 :)  \n",
    "class MyKmeans(object):\n",
    "  def __init__(self):\n",
    "    \n",
    "    pass\n",
    "  \n",
    "  def fit(self, X, k):\n",
    "    self.X = X.copy()\n",
    "    self.dim = X.shape[1]\n",
    "    self.K = k # Number of clusters\n",
    "    self.N = X.shape[0] # 데이터 개수\n",
    "    # Cluster Lables(0, 1, 2) - 우리가 계산하고자 하는 목표 대상 Y\n",
    "    self.Y = np.zeros(self.N) # 처음에는 모두 0으로 세팅\n",
    "    self.historyY = [] # Y의 변화 이력 저장용\n",
    "    \n",
    "    self.max = np.max(X, axis=0)\n",
    "    self.min = np.min(X, axis=0)\n",
    "    self.range = self.max - self.min\n",
    "    \n",
    "    # Centeroid(대장)의 위치를 랜덤값으로 초기 설정하여 출발 !!\n",
    "    self.historyC = [] # C의 변화 이력 저장용\n",
    "    self.C = np.random.random((self.K, self.dim))\n",
    "    self.C = self.C * self.range\n",
    "    print('초기 랜덤 Center', self.C)\n",
    "      \n",
    "    \n",
    "    # Centeroid(대장)의 예전 위치 저장. 새 위치와 비교하기 위해.\n",
    "    C_old = np.zeros(self.C.shape)\n",
    "    \n",
    "    # 기존 Centroid와 새 Centroid의 위치 차이(거리)\n",
    "    diff = dist(self.C, C_old)\n",
    "    #print('diff', diff)\n",
    "    \n",
    "    loopcnt = 0\n",
    "    # Centroid의 변화가 별로 없으면 멈춤.\n",
    "    while np.sum(diff) > 0.01:\n",
    "        self.historyC.append(self.C.copy())\n",
    "        loopcnt += 1\n",
    "        # 각 데이터에 대해 자신과 가장 가까운 Centeroid(대장)를 찾아서 그 대장에 소속 시킨다.\n",
    "        for i in range(self.N):\n",
    "            distance_to_bosses = dist_many(X[i], self.C) # 대장와 나와의 거리\n",
    "            who_is_my_boss = np.argmin(distance_to_bosses) # 나와 가장 가까운 centeroid를 찾기\n",
    "            self.Y[i] = who_is_my_boss\n",
    "        self.historyY.append(self.Y.copy())\n",
    "        # Storing the old centroid values\n",
    "        C_old = self.C.copy()\n",
    "        # Finding the new centroids by taking the average value\n",
    "        for c in range(k):\n",
    "            points = [X[j] for j in range(self.N) if self.Y[j] == c]\n",
    "            if len(points) > 0:\n",
    "              self.C[c] = np.mean(points, axis=0)\n",
    "            else:\n",
    "              self.C[c] = np.zeros(self.C.shape[1])\n",
    "        diff = dist_many(self.C, C_old)\n",
    "        #print('diff', diff)\n",
    "    print('Loop',  loopcnt)\n",
    "    return self.C, self.Y\n",
    " \n",
    "\n"
   ]
  },
  {
   "cell_type": "markdown",
   "metadata": {
    "colab_type": "text",
    "id": "78RD2ypAjLwK"
   },
   "source": [
    "### k-means 시각화"
   ]
  },
  {
   "cell_type": "code",
   "execution_count": 0,
   "metadata": {
    "colab": {},
    "colab_type": "code",
    "id": "uoYHOICmjJ8x"
   },
   "outputs": [],
   "source": [
    "###\n",
    "def draw_kmeans(X, Y, C, K):\n",
    "  N = X.shape[0]\n",
    "  colors = ['r', 'g', 'b', 'y', 'c', 'm']\n",
    "  fig, ax = plt.subplots()\n",
    "  for c in range(K):\n",
    "    points = np.array([X[j] for j in range(N) if Y[j] == c])\n",
    "    ax.scatter(points[:, 0], points[:, 1], s=20, c=colors[c])\n",
    "    ax.scatter(C[:, 0], C[:, 1], marker='*', s=200, c='#050505')     "
   ]
  },
  {
   "cell_type": "code",
   "execution_count": 22,
   "metadata": {
    "colab": {
     "base_uri": "https://localhost:8080/",
     "height": 259
    },
    "colab_type": "code",
    "executionInfo": {
     "elapsed": 960,
     "status": "ok",
     "timestamp": 1554267148860,
     "user": {
      "displayName": "한대희",
      "photoUrl": "",
      "userId": "17475105266749362233"
     },
     "user_tz": -540
    },
    "id": "sOXJwMA2JKc_",
    "outputId": "e2c5fe37-3a8b-4ed7-8640-cbdf62da39ba"
   },
   "outputs": [
    {
     "name": "stdout",
     "output_type": "stream",
     "text": [
      "초기 랜덤 Center [[2.09529248 1.79821254]\n",
      " [5.14907085 0.89061637]\n",
      " [2.60360256 2.18051198]]\n",
      "Loop 8\n",
      "Centers [[1.462      0.246     ]\n",
      " [5.59583333 2.0375    ]\n",
      " [4.26923077 1.34230769]]\n",
      "Y. Label [0. 0. 0. 0. 0. 0. 0. 0. 0. 0. 0. 0. 0. 0. 0. 0. 0. 0. 0. 0. 0. 0. 0. 0.\n",
      " 0. 0. 0. 0. 0. 0. 0. 0. 0. 0. 0. 0. 0. 0. 0. 0. 0. 0. 0. 0. 0. 0. 0. 0.\n",
      " 0. 0. 2. 2. 2. 2. 2. 2. 2. 2. 2. 2. 2. 2. 2. 2. 2. 2. 2. 2. 2. 2. 2. 2.\n",
      " 2. 2. 2. 2. 2. 1. 2. 2. 2. 2. 2. 1. 2. 2. 2. 2. 2. 2. 2. 2. 2. 2. 2. 2.\n",
      " 2. 2. 2. 2. 1. 1. 1. 1. 1. 1. 2. 1. 1. 1. 1. 1. 1. 1. 1. 1. 1. 1. 1. 2.\n",
      " 1. 1. 1. 1. 1. 1. 2. 1. 1. 1. 1. 1. 1. 1. 1. 1. 1. 1. 2. 1. 1. 1. 1. 1.\n",
      " 1. 1. 1. 1. 1. 1.]\n"
     ]
    }
   ],
   "source": [
    "kmeans = MyKmeans()\n",
    "centers, Y = kmeans.fit(X, 3)\n",
    "print('Centers', centers)\n",
    "print('Y. Label', Y)"
   ]
  },
  {
   "cell_type": "code",
   "execution_count": 23,
   "metadata": {
    "colab": {
     "base_uri": "https://localhost:8080/",
     "height": 347
    },
    "colab_type": "code",
    "executionInfo": {
     "elapsed": 1505,
     "status": "ok",
     "timestamp": 1554267149969,
     "user": {
      "displayName": "한대희",
      "photoUrl": "",
      "userId": "17475105266749362233"
     },
     "user_tz": -540
    },
    "id": "OTPq-i1UMfz3",
    "outputId": "dd292d5f-7228-4bda-d8c4-80bb41bf97d9"
   },
   "outputs": [
    {
     "data": {
      "image/png": "[encoded data removed]",
      "text/plain": [
       "<Figure size 576x396 with 1 Axes>"
      ]
     },
     "metadata": {
      "tags": []
     },
     "output_type": "display_data"
    }
   ],
   "source": [
    "draw_kmeans(X, kmeans.Y, kmeans.C, kmeans.K)"
   ]
  },
  {
   "cell_type": "code",
   "execution_count": 0,
   "metadata": {
    "colab": {},
    "colab_type": "code",
    "id": "86jZxUWDpCYP"
   },
   "outputs": [],
   "source": []
  },
  {
   "cell_type": "markdown",
   "metadata": {
    "colab_type": "text",
    "id": "mTakb5v8e7_T"
   },
   "source": [
    "# scikit-learn k-Means 클러스터링"
   ]
  },
  {
   "cell_type": "code",
   "execution_count": 0,
   "metadata": {
    "colab": {},
    "colab_type": "code",
    "id": "vS7Y59bpMueF"
   },
   "outputs": [],
   "source": [
    "from sklearn.cluster import KMeans"
   ]
  },
  {
   "cell_type": "code",
   "execution_count": 0,
   "metadata": {
    "colab": {},
    "colab_type": "code",
    "id": "nZndu4mZbsF6"
   },
   "outputs": [],
   "source": [
    "kmeans = KMeans(n_clusters=3, random_state=0).fit(X)"
   ]
  },
  {
   "cell_type": "code",
   "execution_count": 28,
   "metadata": {
    "colab": {
     "base_uri": "https://localhost:8080/",
     "height": 68
    },
    "colab_type": "code",
    "executionInfo": {
     "elapsed": 1091,
     "status": "ok",
     "timestamp": 1554267225285,
     "user": {
      "displayName": "한대희",
      "photoUrl": "",
      "userId": "17475105266749362233"
     },
     "user_tz": -540
    },
    "id": "oT3OgQY8i628",
    "outputId": "ea433387-ca23-4b57-da83-bd8b608cd28b"
   },
   "outputs": [
    {
     "data": {
      "text/plain": [
       "KMeans(algorithm='auto', copy_x=True, init='k-means++', max_iter=300,\n",
       "    n_clusters=3, n_init=10, n_jobs=None, precompute_distances='auto',\n",
       "    random_state=0, tol=0.0001, verbose=0)"
      ]
     },
     "execution_count": 28,
     "metadata": {
      "tags": []
     },
     "output_type": "execute_result"
    }
   ],
   "source": [
    "kmeans"
   ]
  },
  {
   "cell_type": "code",
   "execution_count": 29,
   "metadata": {
    "colab": {
     "base_uri": "https://localhost:8080/",
     "height": 136
    },
    "colab_type": "code",
    "executionInfo": {
     "elapsed": 1498,
     "status": "ok",
     "timestamp": 1554267232885,
     "user": {
      "displayName": "한대희",
      "photoUrl": "",
      "userId": "17475105266749362233"
     },
     "user_tz": -540
    },
    "id": "CfVAvUvzbvep",
    "outputId": "c9e8e4c7-eb7e-4c53-b9c2-0ad06916bb52"
   },
   "outputs": [
    {
     "data": {
      "text/plain": [
       "array([0, 0, 0, 0, 0, 0, 0, 0, 0, 0, 0, 0, 0, 0, 0, 0, 0, 0, 0, 0, 0, 0,\n",
       "       0, 0, 0, 0, 0, 0, 0, 0, 0, 0, 0, 0, 0, 0, 0, 0, 0, 0, 0, 0, 0, 0,\n",
       "       0, 0, 0, 0, 0, 0, 2, 2, 2, 2, 2, 2, 2, 2, 2, 2, 2, 2, 2, 2, 2, 2,\n",
       "       2, 2, 2, 2, 2, 2, 2, 2, 2, 2, 2, 1, 2, 2, 2, 2, 2, 1, 2, 2, 2, 2,\n",
       "       2, 2, 2, 2, 2, 2, 2, 2, 2, 2, 2, 2, 1, 1, 1, 1, 1, 1, 2, 1, 1, 1,\n",
       "       1, 1, 1, 1, 1, 1, 1, 1, 1, 2, 1, 1, 1, 1, 1, 1, 2, 1, 1, 1, 1, 1,\n",
       "       1, 1, 1, 1, 1, 1, 2, 1, 1, 1, 1, 1, 1, 1, 1, 1, 1, 1], dtype=int32)"
      ]
     },
     "execution_count": 29,
     "metadata": {
      "tags": []
     },
     "output_type": "execute_result"
    }
   ],
   "source": [
    "kmeans.labels_"
   ]
  },
  {
   "cell_type": "code",
   "execution_count": 30,
   "metadata": {
    "colab": {
     "base_uri": "https://localhost:8080/",
     "height": 68
    },
    "colab_type": "code",
    "executionInfo": {
     "elapsed": 955,
     "status": "ok",
     "timestamp": 1554267235627,
     "user": {
      "displayName": "한대희",
      "photoUrl": "",
      "userId": "17475105266749362233"
     },
     "user_tz": -540
    },
    "id": "13b3by5Nb1HQ",
    "outputId": "2f362c6a-2632-4923-bc70-f44163617abb"
   },
   "outputs": [
    {
     "data": {
      "text/plain": [
       "array([[1.462     , 0.246     ],\n",
       "       [5.59583333, 2.0375    ],\n",
       "       [4.26923077, 1.34230769]])"
      ]
     },
     "execution_count": 30,
     "metadata": {
      "tags": []
     },
     "output_type": "execute_result"
    }
   ],
   "source": [
    "kmeans.cluster_centers_"
   ]
  },
  {
   "cell_type": "code",
   "execution_count": 31,
   "metadata": {
    "colab": {
     "base_uri": "https://localhost:8080/",
     "height": 347
    },
    "colab_type": "code",
    "executionInfo": {
     "elapsed": 1084,
     "status": "ok",
     "timestamp": 1554267237512,
     "user": {
      "displayName": "한대희",
      "photoUrl": "",
      "userId": "17475105266749362233"
     },
     "user_tz": -540
    },
    "id": "gfZd57TWb4Vw",
    "outputId": "4346ed35-1e41-4336-9c36-85b629230d0f"
   },
   "outputs": [
    {
     "data": {
      "image/png": "[encoded data removed]",
      "text/plain": [
       "<Figure size 576x396 with 1 Axes>"
      ]
     },
     "metadata": {
      "tags": []
     },
     "output_type": "display_data"
    }
   ],
   "source": [
    "draw_kmeans(X, kmeans.labels_, kmeans.cluster_centers_, kmeans.n_clusters)"
   ]
  },
  {
   "cell_type": "code",
   "execution_count": 0,
   "metadata": {
    "colab": {},
    "colab_type": "code",
    "id": "9lBqeb24jd_B"
   },
   "outputs": [],
   "source": []
  }
 ],
 "metadata": {
  "colab": {
   "collapsed_sections": [],
   "name": "EX9_k-mean-clustering.ipynb",
   "provenance": [],
   "version": "0.3.2"
  },
  "kernelspec": {
   "display_name": "Python 3",
   "language": "python",
   "name": "python3"
  },
  "language_info": {
   "codemirror_mode": {
    "name": "ipython",
    "version": 3
   },
   "file_extension": ".py",
   "mimetype": "text/x-python",
   "name": "python",
   "nbconvert_exporter": "python",
   "pygments_lexer": "ipython3",
   "version": "3.6.4"
  },
  "toc": {
   "base_numbering": 1,
   "nav_menu": {},
   "number_sections": true,
   "sideBar": true,
   "skip_h1_title": false,
   "title_cell": "Table of Contents",
   "title_sidebar": "Contents",
   "toc_cell": false,
   "toc_position": {},
   "toc_section_display": true,
   "toc_window_display": false
  }
 },
 "nbformat": 4,
 "nbformat_minor": 1
}
